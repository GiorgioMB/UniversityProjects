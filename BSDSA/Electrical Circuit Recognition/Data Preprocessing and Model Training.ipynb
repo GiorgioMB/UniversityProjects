{
 "cells": [
  {
   "cell_type": "code",
   "execution_count": 1,
   "id": "914ab9fd",
   "metadata": {
    "execution": {
     "iopub.execute_input": "2024-04-30T11:15:05.322569Z",
     "iopub.status.busy": "2024-04-30T11:15:05.322294Z",
     "iopub.status.idle": "2024-04-30T11:17:40.567189Z",
     "shell.execute_reply": "2024-04-30T11:17:40.566036Z"
    },
    "papermill": {
     "duration": 155.252673,
     "end_time": "2024-04-30T11:17:40.569404",
     "exception": false,
     "start_time": "2024-04-30T11:15:05.316731",
     "status": "completed"
    },
    "tags": []
   },
   "outputs": [
    {
     "name": "stdout",
     "output_type": "stream",
     "text": [
      "BEGIN DOWNLOAD\n",
      "Requirement already satisfied: torch in /opt/conda/lib/python3.10/site-packages (2.1.2)\r\n",
      "Collecting torch\r\n",
      "  Downloading torch-2.3.0-cp310-cp310-manylinux1_x86_64.whl.metadata (26 kB)\r\n",
      "Requirement already satisfied: filelock in /opt/conda/lib/python3.10/site-packages (from torch) (3.13.1)\r\n",
      "Requirement already satisfied: typing-extensions>=4.8.0 in /opt/conda/lib/python3.10/site-packages (from torch) (4.9.0)\r\n",
      "Requirement already satisfied: sympy in /opt/conda/lib/python3.10/site-packages (from torch) (1.12)\r\n",
      "Requirement already satisfied: networkx in /opt/conda/lib/python3.10/site-packages (from torch) (3.2.1)\r\n",
      "Requirement already satisfied: jinja2 in /opt/conda/lib/python3.10/site-packages (from torch) (3.1.2)\r\n",
      "Requirement already satisfied: fsspec in /opt/conda/lib/python3.10/site-packages (from torch) (2024.2.0)\r\n",
      "Collecting nvidia-cuda-nvrtc-cu12==12.1.105 (from torch)\r\n",
      "  Downloading nvidia_cuda_nvrtc_cu12-12.1.105-py3-none-manylinux1_x86_64.whl.metadata (1.5 kB)\r\n",
      "Collecting nvidia-cuda-runtime-cu12==12.1.105 (from torch)\r\n",
      "  Downloading nvidia_cuda_runtime_cu12-12.1.105-py3-none-manylinux1_x86_64.whl.metadata (1.5 kB)\r\n",
      "Collecting nvidia-cuda-cupti-cu12==12.1.105 (from torch)\r\n",
      "  Downloading nvidia_cuda_cupti_cu12-12.1.105-py3-none-manylinux1_x86_64.whl.metadata (1.6 kB)\r\n",
      "Collecting nvidia-cudnn-cu12==8.9.2.26 (from torch)\r\n",
      "  Downloading nvidia_cudnn_cu12-8.9.2.26-py3-none-manylinux1_x86_64.whl.metadata (1.6 kB)\r\n",
      "Collecting nvidia-cublas-cu12==12.1.3.1 (from torch)\r\n",
      "  Downloading nvidia_cublas_cu12-12.1.3.1-py3-none-manylinux1_x86_64.whl.metadata (1.5 kB)\r\n",
      "Collecting nvidia-cufft-cu12==11.0.2.54 (from torch)\r\n",
      "  Downloading nvidia_cufft_cu12-11.0.2.54-py3-none-manylinux1_x86_64.whl.metadata (1.5 kB)\r\n",
      "Collecting nvidia-curand-cu12==10.3.2.106 (from torch)\r\n",
      "  Downloading nvidia_curand_cu12-10.3.2.106-py3-none-manylinux1_x86_64.whl.metadata (1.5 kB)\r\n",
      "Collecting nvidia-cusolver-cu12==11.4.5.107 (from torch)\r\n",
      "  Downloading nvidia_cusolver_cu12-11.4.5.107-py3-none-manylinux1_x86_64.whl.metadata (1.6 kB)\r\n",
      "Collecting nvidia-cusparse-cu12==12.1.0.106 (from torch)\r\n",
      "  Downloading nvidia_cusparse_cu12-12.1.0.106-py3-none-manylinux1_x86_64.whl.metadata (1.6 kB)\r\n",
      "Collecting nvidia-nccl-cu12==2.20.5 (from torch)\r\n",
      "  Downloading nvidia_nccl_cu12-2.20.5-py3-none-manylinux2014_x86_64.whl.metadata (1.8 kB)\r\n",
      "Collecting nvidia-nvtx-cu12==12.1.105 (from torch)\r\n",
      "  Downloading nvidia_nvtx_cu12-12.1.105-py3-none-manylinux1_x86_64.whl.metadata (1.7 kB)\r\n",
      "Collecting triton==2.3.0 (from torch)\r\n",
      "  Downloading triton-2.3.0-cp310-cp310-manylinux_2_17_x86_64.manylinux2014_x86_64.whl.metadata (1.4 kB)\r\n",
      "Collecting nvidia-nvjitlink-cu12 (from nvidia-cusolver-cu12==11.4.5.107->torch)\r\n",
      "  Downloading nvidia_nvjitlink_cu12-12.4.127-py3-none-manylinux2014_x86_64.whl.metadata (1.5 kB)\r\n",
      "Requirement already satisfied: MarkupSafe>=2.0 in /opt/conda/lib/python3.10/site-packages (from jinja2->torch) (2.1.3)\r\n",
      "Requirement already satisfied: mpmath>=0.19 in /opt/conda/lib/python3.10/site-packages (from sympy->torch) (1.3.0)\r\n",
      "Downloading torch-2.3.0-cp310-cp310-manylinux1_x86_64.whl (779.1 MB)\r\n",
      "\u001b[2K   \u001b[90m━━━━━━━━━━━━━━━━━━━━━━━━━━━━━━━━━━━━━━━━\u001b[0m \u001b[32m779.1/779.1 MB\u001b[0m \u001b[31m2.1 MB/s\u001b[0m eta \u001b[36m0:00:00\u001b[0m\r\n",
      "\u001b[?25hDownloading nvidia_cublas_cu12-12.1.3.1-py3-none-manylinux1_x86_64.whl (410.6 MB)\r\n",
      "\u001b[2K   \u001b[90m━━━━━━━━━━━━━━━━━━━━━━━━━━━━━━━━━━━━━━━━\u001b[0m \u001b[32m410.6/410.6 MB\u001b[0m \u001b[31m4.0 MB/s\u001b[0m eta \u001b[36m0:00:00\u001b[0m\r\n",
      "\u001b[?25hDownloading nvidia_cuda_cupti_cu12-12.1.105-py3-none-manylinux1_x86_64.whl (14.1 MB)\r\n",
      "\u001b[2K   \u001b[90m━━━━━━━━━━━━━━━━━━━━━━━━━━━━━━━━━━━━━━━━\u001b[0m \u001b[32m14.1/14.1 MB\u001b[0m \u001b[31m79.9 MB/s\u001b[0m eta \u001b[36m0:00:00\u001b[0m\r\n",
      "\u001b[?25hDownloading nvidia_cuda_nvrtc_cu12-12.1.105-py3-none-manylinux1_x86_64.whl (23.7 MB)\r\n",
      "\u001b[2K   \u001b[90m━━━━━━━━━━━━━━━━━━━━━━━━━━━━━━━━━━━━━━━━\u001b[0m \u001b[32m23.7/23.7 MB\u001b[0m \u001b[31m64.5 MB/s\u001b[0m eta \u001b[36m0:00:00\u001b[0m\r\n",
      "\u001b[?25hDownloading nvidia_cuda_runtime_cu12-12.1.105-py3-none-manylinux1_x86_64.whl (823 kB)\r\n",
      "\u001b[2K   \u001b[90m━━━━━━━━━━━━━━━━━━━━━━━━━━━━━━━━━━━━━━━━\u001b[0m \u001b[32m823.6/823.6 kB\u001b[0m \u001b[31m43.1 MB/s\u001b[0m eta \u001b[36m0:00:00\u001b[0m\r\n",
      "\u001b[?25hDownloading nvidia_cudnn_cu12-8.9.2.26-py3-none-manylinux1_x86_64.whl (731.7 MB)\r\n",
      "\u001b[2K   \u001b[90m━━━━━━━━━━━━━━━━━━━━━━━━━━━━━━━━━━━━━━━━\u001b[0m \u001b[32m731.7/731.7 MB\u001b[0m \u001b[31m1.3 MB/s\u001b[0m eta \u001b[36m0:00:00\u001b[0m\r\n",
      "\u001b[?25hDownloading nvidia_cufft_cu12-11.0.2.54-py3-none-manylinux1_x86_64.whl (121.6 MB)\r\n",
      "\u001b[2K   \u001b[90m━━━━━━━━━━━━━━━━━━━━━━━━━━━━━━━━━━━━━━━━\u001b[0m \u001b[32m121.6/121.6 MB\u001b[0m \u001b[31m7.6 MB/s\u001b[0m eta \u001b[36m0:00:00\u001b[0m\r\n",
      "\u001b[?25hDownloading nvidia_curand_cu12-10.3.2.106-py3-none-manylinux1_x86_64.whl (56.5 MB)\r\n",
      "\u001b[2K   \u001b[90m━━━━━━━━━━━━━━━━━━━━━━━━━━━━━━━━━━━━━━━━\u001b[0m \u001b[32m56.5/56.5 MB\u001b[0m \u001b[31m32.0 MB/s\u001b[0m eta \u001b[36m0:00:00\u001b[0m\r\n",
      "\u001b[?25hDownloading nvidia_cusolver_cu12-11.4.5.107-py3-none-manylinux1_x86_64.whl (124.2 MB)\r\n",
      "\u001b[2K   \u001b[90m━━━━━━━━━━━━━━━━━━━━━━━━━━━━━━━━━━━━━━━━\u001b[0m \u001b[32m124.2/124.2 MB\u001b[0m \u001b[31m13.3 MB/s\u001b[0m eta \u001b[36m0:00:00\u001b[0m\r\n",
      "\u001b[?25hDownloading nvidia_cusparse_cu12-12.1.0.106-py3-none-manylinux1_x86_64.whl (196.0 MB)\r\n",
      "\u001b[2K   \u001b[90m━━━━━━━━━━━━━━━━━━━━━━━━━━━━━━━━━━━━━━━━\u001b[0m \u001b[32m196.0/196.0 MB\u001b[0m \u001b[31m4.0 MB/s\u001b[0m eta \u001b[36m0:00:00\u001b[0m\r\n",
      "\u001b[?25hDownloading nvidia_nccl_cu12-2.20.5-py3-none-manylinux2014_x86_64.whl (176.2 MB)\r\n",
      "\u001b[2K   \u001b[90m━━━━━━━━━━━━━━━━━━━━━━━━━━━━━━━━━━━━━━━━\u001b[0m \u001b[32m176.2/176.2 MB\u001b[0m \u001b[31m1.8 MB/s\u001b[0m eta \u001b[36m0:00:00\u001b[0m\r\n",
      "\u001b[?25hDownloading nvidia_nvtx_cu12-12.1.105-py3-none-manylinux1_x86_64.whl (99 kB)\r\n",
      "\u001b[2K   \u001b[90m━━━━━━━━━━━━━━━━━━━━━━━━━━━━━━━━━━━━━━━━\u001b[0m \u001b[32m99.1/99.1 kB\u001b[0m \u001b[31m1.1 MB/s\u001b[0m eta \u001b[36m0:00:00\u001b[0m\r\n",
      "\u001b[?25hDownloading triton-2.3.0-cp310-cp310-manylinux_2_17_x86_64.manylinux2014_x86_64.whl (168.1 MB)\r\n",
      "\u001b[2K   \u001b[90m━━━━━━━━━━━━━━━━━━━━━━━━━━━━━━━━━━━━━━━━\u001b[0m \u001b[32m168.1/168.1 MB\u001b[0m \u001b[31m9.9 MB/s\u001b[0m eta \u001b[36m0:00:00\u001b[0m\r\n",
      "\u001b[?25hDownloading nvidia_nvjitlink_cu12-12.4.127-py3-none-manylinux2014_x86_64.whl (21.1 MB)\r\n",
      "\u001b[2K   \u001b[90m━━━━━━━━━━━━━━━━━━━━━━━━━━━━━━━━━━━━━━━━\u001b[0m \u001b[32m21.1/21.1 MB\u001b[0m \u001b[31m65.9 MB/s\u001b[0m eta \u001b[36m0:00:00\u001b[0m\r\n",
      "\u001b[?25hInstalling collected packages: triton, nvidia-nvtx-cu12, nvidia-nvjitlink-cu12, nvidia-nccl-cu12, nvidia-curand-cu12, nvidia-cufft-cu12, nvidia-cuda-runtime-cu12, nvidia-cuda-nvrtc-cu12, nvidia-cuda-cupti-cu12, nvidia-cublas-cu12, nvidia-cusparse-cu12, nvidia-cudnn-cu12, nvidia-cusolver-cu12, torch\r\n",
      "  Attempting uninstall: torch\r\n",
      "    Found existing installation: torch 2.1.2\r\n",
      "    Uninstalling torch-2.1.2:\r\n",
      "      Successfully uninstalled torch-2.1.2\r\n",
      "\u001b[31mERROR: pip's dependency resolver does not currently take into account all the packages that are installed. This behaviour is the source of the following dependency conflicts.\r\n",
      "fastai 2.7.14 requires torch<2.3,>=1.10, but you have torch 2.3.0 which is incompatible.\u001b[0m\u001b[31m\r\n",
      "\u001b[0mSuccessfully installed nvidia-cublas-cu12-12.1.3.1 nvidia-cuda-cupti-cu12-12.1.105 nvidia-cuda-nvrtc-cu12-12.1.105 nvidia-cuda-runtime-cu12-12.1.105 nvidia-cudnn-cu12-8.9.2.26 nvidia-cufft-cu12-11.0.2.54 nvidia-curand-cu12-10.3.2.106 nvidia-cusolver-cu12-11.4.5.107 nvidia-cusparse-cu12-12.1.0.106 nvidia-nccl-cu12-2.20.5 nvidia-nvjitlink-cu12-12.4.127 nvidia-nvtx-cu12-12.1.105 torch-2.3.0 triton-2.3.0\r\n",
      "DOWNLOADED PYTORCH\n",
      "Requirement already satisfied: torchvision in /opt/conda/lib/python3.10/site-packages (0.16.2)\r\n",
      "Collecting torchvision\r\n",
      "  Downloading torchvision-0.18.0-cp310-cp310-manylinux1_x86_64.whl.metadata (6.6 kB)\r\n",
      "Requirement already satisfied: numpy in /opt/conda/lib/python3.10/site-packages (from torchvision) (1.26.4)\r\n",
      "Requirement already satisfied: torch==2.3.0 in /opt/conda/lib/python3.10/site-packages (from torchvision) (2.3.0)\r\n",
      "Requirement already satisfied: pillow!=8.3.*,>=5.3.0 in /opt/conda/lib/python3.10/site-packages (from torchvision) (9.5.0)\r\n",
      "Requirement already satisfied: filelock in /opt/conda/lib/python3.10/site-packages (from torch==2.3.0->torchvision) (3.13.1)\r\n",
      "Requirement already satisfied: typing-extensions>=4.8.0 in /opt/conda/lib/python3.10/site-packages (from torch==2.3.0->torchvision) (4.9.0)\r\n",
      "Requirement already satisfied: sympy in /opt/conda/lib/python3.10/site-packages (from torch==2.3.0->torchvision) (1.12)\r\n",
      "Requirement already satisfied: networkx in /opt/conda/lib/python3.10/site-packages (from torch==2.3.0->torchvision) (3.2.1)\r\n",
      "Requirement already satisfied: jinja2 in /opt/conda/lib/python3.10/site-packages (from torch==2.3.0->torchvision) (3.1.2)\r\n",
      "Requirement already satisfied: fsspec in /opt/conda/lib/python3.10/site-packages (from torch==2.3.0->torchvision) (2024.2.0)\r\n",
      "Requirement already satisfied: nvidia-cuda-nvrtc-cu12==12.1.105 in /opt/conda/lib/python3.10/site-packages (from torch==2.3.0->torchvision) (12.1.105)\r\n",
      "Requirement already satisfied: nvidia-cuda-runtime-cu12==12.1.105 in /opt/conda/lib/python3.10/site-packages (from torch==2.3.0->torchvision) (12.1.105)\r\n",
      "Requirement already satisfied: nvidia-cuda-cupti-cu12==12.1.105 in /opt/conda/lib/python3.10/site-packages (from torch==2.3.0->torchvision) (12.1.105)\r\n",
      "Requirement already satisfied: nvidia-cudnn-cu12==8.9.2.26 in /opt/conda/lib/python3.10/site-packages (from torch==2.3.0->torchvision) (8.9.2.26)\r\n",
      "Requirement already satisfied: nvidia-cublas-cu12==12.1.3.1 in /opt/conda/lib/python3.10/site-packages (from torch==2.3.0->torchvision) (12.1.3.1)\r\n",
      "Requirement already satisfied: nvidia-cufft-cu12==11.0.2.54 in /opt/conda/lib/python3.10/site-packages (from torch==2.3.0->torchvision) (11.0.2.54)\r\n",
      "Requirement already satisfied: nvidia-curand-cu12==10.3.2.106 in /opt/conda/lib/python3.10/site-packages (from torch==2.3.0->torchvision) (10.3.2.106)\r\n",
      "Requirement already satisfied: nvidia-cusolver-cu12==11.4.5.107 in /opt/conda/lib/python3.10/site-packages (from torch==2.3.0->torchvision) (11.4.5.107)\r\n",
      "Requirement already satisfied: nvidia-cusparse-cu12==12.1.0.106 in /opt/conda/lib/python3.10/site-packages (from torch==2.3.0->torchvision) (12.1.0.106)\r\n",
      "Requirement already satisfied: nvidia-nccl-cu12==2.20.5 in /opt/conda/lib/python3.10/site-packages (from torch==2.3.0->torchvision) (2.20.5)\r\n",
      "Requirement already satisfied: nvidia-nvtx-cu12==12.1.105 in /opt/conda/lib/python3.10/site-packages (from torch==2.3.0->torchvision) (12.1.105)\r\n",
      "Requirement already satisfied: triton==2.3.0 in /opt/conda/lib/python3.10/site-packages (from torch==2.3.0->torchvision) (2.3.0)\r\n",
      "Requirement already satisfied: nvidia-nvjitlink-cu12 in /opt/conda/lib/python3.10/site-packages (from nvidia-cusolver-cu12==11.4.5.107->torch==2.3.0->torchvision) (12.4.127)\r\n",
      "Requirement already satisfied: MarkupSafe>=2.0 in /opt/conda/lib/python3.10/site-packages (from jinja2->torch==2.3.0->torchvision) (2.1.3)\r\n",
      "Requirement already satisfied: mpmath>=0.19 in /opt/conda/lib/python3.10/site-packages (from sympy->torch==2.3.0->torchvision) (1.3.0)\r\n",
      "Downloading torchvision-0.18.0-cp310-cp310-manylinux1_x86_64.whl (7.0 MB)\r\n",
      "\u001b[2K   \u001b[90m━━━━━━━━━━━━━━━━━━━━━━━━━━━━━━━━━━━━━━━━\u001b[0m \u001b[32m7.0/7.0 MB\u001b[0m \u001b[31m52.3 MB/s\u001b[0m eta \u001b[36m0:00:00\u001b[0m\r\n",
      "\u001b[?25hInstalling collected packages: torchvision\r\n",
      "  Attempting uninstall: torchvision\r\n",
      "    Found existing installation: torchvision 0.16.2\r\n",
      "    Uninstalling torchvision-0.16.2:\r\n",
      "      Successfully uninstalled torchvision-0.16.2\r\n",
      "\u001b[31mERROR: pip's dependency resolver does not currently take into account all the packages that are installed. This behaviour is the source of the following dependency conflicts.\r\n",
      "fastai 2.7.14 requires torch<2.3,>=1.10, but you have torch 2.3.0 which is incompatible.\u001b[0m\u001b[31m\r\n",
      "\u001b[0mSuccessfully installed torchvision-0.18.0\r\n",
      "DOWNLOADED PYTORCH-VISION\n"
     ]
    }
   ],
   "source": [
    "print(\"BEGIN DOWNLOAD\")\n",
    "!pip install torch --upgrade\n",
    "print(\"DOWNLOADED PYTORCH\")\n",
    "!pip install torchvision --upgrade\n",
    "print(\"DOWNLOADED PYTORCH-VISION\")"
   ]
  },
  {
   "cell_type": "code",
   "execution_count": 2,
   "id": "d1720e55",
   "metadata": {
    "_cell_guid": "b1076dfc-b9ad-4769-8c92-a6c4dae69d19",
    "_uuid": "8f2839f25d086af736a60e9eeb907d3b93b6e0e5",
    "execution": {
     "iopub.execute_input": "2024-04-30T11:17:40.727242Z",
     "iopub.status.busy": "2024-04-30T11:17:40.726455Z",
     "iopub.status.idle": "2024-04-30T11:17:47.780907Z",
     "shell.execute_reply": "2024-04-30T11:17:47.779792Z"
    },
    "papermill": {
     "duration": 7.134152,
     "end_time": "2024-04-30T11:17:47.782912",
     "exception": false,
     "start_time": "2024-04-30T11:17:40.648760",
     "status": "completed"
    },
    "tags": []
   },
   "outputs": [
    {
     "name": "stdout",
     "output_type": "stream",
     "text": [
      "IMPORTED LIBRARIES\n",
      "CREATED FOLDERS\n"
     ]
    }
   ],
   "source": [
    "import os\n",
    "import csv\n",
    "import xml.etree.ElementTree as ET\n",
    "import json\n",
    "import torchvision as tv\n",
    "import torch as t\n",
    "import numpy as np\n",
    "import pandas as pd\n",
    "import torch\n",
    "from torch.utils.data import Dataset, DataLoader\n",
    "from sklearn.model_selection import train_test_split\n",
    "import torchvision.transforms as transforms\n",
    "import torchvision.models as models\n",
    "import torch.optim as optim\n",
    "import torch.nn as nn\n",
    "import ssl\n",
    "import gc\n",
    "from PIL import Image\n",
    "import shutil\n",
    "import cv2\n",
    "from torchvision.transforms import functional as F\n",
    "import psutil\n",
    "import warnings\n",
    "warnings.filterwarnings('ignore') \n",
    "print(\"IMPORTED LIBRARIES\")\n",
    "ssl._create_default_https_context = ssl._create_unverified_context\n",
    "if not os.path.exists('dataset'):\n",
    "    os.mkdir('dataset')\n",
    "    os.mkdir('train')\n",
    "    os.mkdir('test')\n",
    "    os.mkdir('dataset/drafter_00')\n",
    "    print(\"CREATED FOLDERS\")"
   ]
  },
  {
   "cell_type": "code",
   "execution_count": 3,
   "id": "f2d5f068",
   "metadata": {
    "execution": {
     "iopub.execute_input": "2024-04-30T11:17:47.978554Z",
     "iopub.status.busy": "2024-04-30T11:17:47.978066Z",
     "iopub.status.idle": "2024-04-30T11:19:10.969090Z",
     "shell.execute_reply": "2024-04-30T11:19:10.967826Z"
    },
    "papermill": {
     "duration": 83.111564,
     "end_time": "2024-04-30T11:19:10.971653",
     "exception": false,
     "start_time": "2024-04-30T11:17:47.860089",
     "status": "completed"
    },
    "tags": []
   },
   "outputs": [],
   "source": [
    "!cp -r /kaggle/input/cghd1152/* /kaggle/working/dataset"
   ]
  },
  {
   "cell_type": "markdown",
   "id": "d585bf6b",
   "metadata": {
    "papermill": {
     "duration": 0.076289,
     "end_time": "2024-04-30T11:19:11.126483",
     "exception": false,
     "start_time": "2024-04-30T11:19:11.050194",
     "status": "completed"
    },
    "tags": []
   },
   "source": [
    "# Preprocessing"
   ]
  },
  {
   "cell_type": "code",
   "execution_count": 4,
   "id": "35a000fb",
   "metadata": {
    "execution": {
     "iopub.execute_input": "2024-04-30T11:19:11.285222Z",
     "iopub.status.busy": "2024-04-30T11:19:11.284489Z",
     "iopub.status.idle": "2024-04-30T11:19:17.372441Z",
     "shell.execute_reply": "2024-04-30T11:19:17.371595Z"
    },
    "papermill": {
     "duration": 6.172156,
     "end_time": "2024-04-30T11:19:17.374765",
     "exception": false,
     "start_time": "2024-04-30T11:19:11.202609",
     "status": "completed"
    },
    "tags": []
   },
   "outputs": [],
   "source": [
    "def read_labels(classes_json: str):\n",
    "    with open(classes_json, \"r\", encoding=\"utf-8\") as f:\n",
    "        label_map = json.load(f)\n",
    "    return label_map\n",
    "\n",
    "\n",
    "def xml_to_csv(xml_file, csv_file, label_map):\n",
    "    tree = ET.parse(xml_file)\n",
    "    root = tree.getroot()\n",
    "    with open(csv_file, \"w\", newline=\"\", encoding=\"utf-8\") as csv_file:\n",
    "        csv_writer = csv.writer(csv_file)\n",
    "        headers = [\n",
    "            \"Label\",\n",
    "            \"object\",\n",
    "            \"xmin\",\n",
    "            \"ymin\",\n",
    "            \"xmax\",\n",
    "            \"ymax\",\n",
    "            \"rotation\",\n",
    "            \"text\",\n",
    "        ]\n",
    "        csv_writer.writerow(headers)\n",
    "        for obj in root.findall(\".//object\"):\n",
    "            object_name = obj.find(\"name\").text\n",
    "            label = label_map.get(object_name, \"unknown\")\n",
    "            bndbox = obj.find(\"bndbox\")\n",
    "            xmin = bndbox.find(\"xmin\").text\n",
    "            ymin = bndbox.find(\"ymin\").text\n",
    "            xmax = bndbox.find(\"xmax\").text\n",
    "            ymax = bndbox.find(\"ymax\").text\n",
    "            rotation_element = bndbox.find(\"rotation\")\n",
    "            rotation = rotation_element.text if rotation_element is not None else \"\"\n",
    "            text_element = obj.find(\"text\")\n",
    "            text = text_element.text if text_element is not None else \"\"\n",
    "            row = [label, object_name, xmin, ymin, xmax, ymax, rotation, text]\n",
    "            csv_writer.writerow(row)\n",
    "\n",
    "\n",
    "def process_drafter_folders(label_map_file):\n",
    "    label_map = read_labels(label_map_file)\n",
    "    drafter_folders = [f\"/kaggle/working/dataset/drafter_{i}\" for i in range(26)]\n",
    "    for drafter_folder in drafter_folders:\n",
    "        annotations_folder = os.path.join(drafter_folder, \"annotations\")\n",
    "        csv_output_folder = os.path.join(drafter_folder, \"csvs\")\n",
    "        os.makedirs(csv_output_folder, exist_ok=True)\n",
    "        for xml_file in os.listdir(annotations_folder):\n",
    "            if xml_file.endswith(\".xml\"):\n",
    "                xml_file_path = os.path.join(annotations_folder, xml_file)\n",
    "                csv_file_path = os.path.join(\n",
    "                    csv_output_folder, f\"{os.path.splitext(xml_file)[0]}.csv\"\n",
    "                )\n",
    "\n",
    "                xml_to_csv(xml_file_path, csv_file_path, label_map)\n",
    "\n",
    "process_drafter_folders(\"/kaggle/working/dataset/classes.json\")"
   ]
  },
  {
   "cell_type": "code",
   "execution_count": 5,
   "id": "e9d922f9",
   "metadata": {
    "execution": {
     "iopub.execute_input": "2024-04-30T11:19:17.532256Z",
     "iopub.status.busy": "2024-04-30T11:19:17.531259Z",
     "iopub.status.idle": "2024-04-30T11:19:17.536327Z",
     "shell.execute_reply": "2024-04-30T11:19:17.535401Z"
    },
    "papermill": {
     "duration": 0.085757,
     "end_time": "2024-04-30T11:19:17.538281",
     "exception": false,
     "start_time": "2024-04-30T11:19:17.452524",
     "status": "completed"
    },
    "tags": []
   },
   "outputs": [
    {
     "name": "stdout",
     "output_type": "stream",
     "text": [
      "CSV FILES CREATED\n"
     ]
    }
   ],
   "source": [
    "print(\"CSV FILES CREATED\")"
   ]
  },
  {
   "cell_type": "code",
   "execution_count": 6,
   "id": "2ba9005b",
   "metadata": {
    "execution": {
     "iopub.execute_input": "2024-04-30T11:19:17.693042Z",
     "iopub.status.busy": "2024-04-30T11:19:17.692718Z",
     "iopub.status.idle": "2024-04-30T11:20:08.472075Z",
     "shell.execute_reply": "2024-04-30T11:20:08.471146Z"
    },
    "papermill": {
     "duration": 50.935513,
     "end_time": "2024-04-30T11:20:08.550719",
     "exception": false,
     "start_time": "2024-04-30T11:19:17.615206",
     "status": "completed"
    },
    "tags": []
   },
   "outputs": [
    {
     "name": "stdout",
     "output_type": "stream",
     "text": [
      "TRAINING FOLDER FILLED\n",
      "TEST FOLDER FILLED\n"
     ]
    }
   ],
   "source": [
    "for i in range(1, 25):\n",
    "    img_folder = f\"/kaggle/working/dataset/drafter_{i}/images/\"\n",
    "    csv_folder = f\"/kaggle/working/dataset/drafter_{i}/csvs/\"\n",
    "\n",
    "    for file in os.listdir(img_folder):\n",
    "        if file.split('.')[0] + '.csv' in os.listdir(csv_folder):\n",
    "            shutil.move(img_folder + file, \"train/\" + file.split(\".\")[0] + \".jpg\")\n",
    "            shutil.move(\n",
    "                csv_folder + file.split(\".\")[0] + \".csv\",\n",
    "                \"train/\" + file.split(\".\")[0] + \".csv\",\n",
    "            )\n",
    "\n",
    "\n",
    "for file in os.listdir(\"/kaggle/working/dataset/drafter_0/images/\"):\n",
    "    image = cv2.imread(\"/kaggle/working/dataset/drafter_0/images/\" + file)\n",
    "    cv2.imwrite(\n",
    "        \"/kaggle/working/dataset/drafter_00/\" + file.split(\".\")[0] + \".jpg\",\n",
    "        image,\n",
    "        [int(cv2.IMWRITE_JPEG_QUALITY), 100],\n",
    "    )\n",
    "\n",
    "img_folder = \"/kaggle/working/dataset/drafter_00/\"\n",
    "csv_folder = \"/kaggle/working/dataset/drafter_0/csvs/\"\n",
    "\n",
    "for file in os.listdir(img_folder):\n",
    "    if file.split('.')[0] + '.csv' in os.listdir(csv_folder):\n",
    "        shutil.move(\n",
    "            img_folder + file,\n",
    "            \"train/\" + file.split(\".\")[0] + \".jpg\",\n",
    "        )\n",
    "        shutil.move(\n",
    "            csv_folder + file.split(\".\")[0] + \".csv\",\n",
    "            \"train/\" + file.split(\".\")[0] + \".csv\",\n",
    "    )\n",
    "print(\"TRAINING FOLDER FILLED\")\n",
    "for i in range(25, 26):\n",
    "    img_folder = f\"/kaggle/working/dataset/drafter_{i}/images/\"\n",
    "    csv_folder = f\"/kaggle/working/dataset/drafter_{i}/csvs/\"\n",
    "\n",
    "    for file in os.listdir(img_folder):\n",
    "        if file.split('.')[0] + '.csv' in os.listdir(csv_folder):\n",
    "            shutil.move(img_folder + file, \"test/\" + file.split(\".\")[0] + \".jpg\")\n",
    "            shutil.move(\n",
    "                csv_folder + file.split(\".\")[0] + \".csv\",\n",
    "                \"test/\" + file.split(\".\")[0] + \".csv\",\n",
    "            )\n",
    "print(\"TEST FOLDER FILLED\")"
   ]
  },
  {
   "cell_type": "code",
   "execution_count": 7,
   "id": "a49b08c8",
   "metadata": {
    "execution": {
     "iopub.execute_input": "2024-04-30T11:20:08.705759Z",
     "iopub.status.busy": "2024-04-30T11:20:08.705436Z",
     "iopub.status.idle": "2024-04-30T11:20:08.712904Z",
     "shell.execute_reply": "2024-04-30T11:20:08.712109Z"
    },
    "papermill": {
     "duration": 0.086976,
     "end_time": "2024-04-30T11:20:08.714749",
     "exception": false,
     "start_time": "2024-04-30T11:20:08.627773",
     "status": "completed"
    },
    "tags": []
   },
   "outputs": [
    {
     "name": "stdout",
     "output_type": "stream",
     "text": [
      "4902\n"
     ]
    }
   ],
   "source": [
    "print(len(os.listdir('train')))"
   ]
  },
  {
   "cell_type": "markdown",
   "id": "fc177c5e",
   "metadata": {
    "papermill": {
     "duration": 0.076637,
     "end_time": "2024-04-30T11:20:08.867929",
     "exception": false,
     "start_time": "2024-04-30T11:20:08.791292",
     "status": "completed"
    },
    "tags": []
   },
   "source": [
    "# Model Training"
   ]
  },
  {
   "cell_type": "code",
   "execution_count": 8,
   "id": "9b4965ce",
   "metadata": {
    "execution": {
     "iopub.execute_input": "2024-04-30T11:20:09.023670Z",
     "iopub.status.busy": "2024-04-30T11:20:09.023385Z",
     "iopub.status.idle": "2024-04-30T11:20:13.118988Z",
     "shell.execute_reply": "2024-04-30T11:20:13.118018Z"
    },
    "papermill": {
     "duration": 4.175034,
     "end_time": "2024-04-30T11:20:13.120806",
     "exception": false,
     "start_time": "2024-04-30T11:20:08.945772",
     "status": "completed"
    },
    "tags": []
   },
   "outputs": [
    {
     "name": "stdout",
     "output_type": "stream",
     "text": [
      "{'probe.current', 'antenna', 'optocoupler', 'capacitor.adjustable', 'capacitor.polarized', 'triac', 'transformer', 'crossover', 'diode.zener', 'unknown', 'crystal', 'microphone', 'switch', 'speaker', 'relay', 'or', 'terminal', 'fuse', 'capacitor.unpolarized', 'integrated_circuit.voltage_regulator', 'diode.thyrector', 'transistor.bjt', 'and', 'motor', 'probe', 'resistor.photo', 'nor', 'operational_amplifier', 'thyristor', 'varistor', 'resistor.adjustable', 'diac', 'resistor', 'diode', 'nand', 'xor', 'transistor.photo', 'voltage.dc', 'transistor.fet', 'lamp', 'voltage.battery', 'vss', 'text', 'probe.voltage', 'operational_amplifier.schmitt_trigger', 'magnetic', 'integrated_circuit', 'gnd', 'inductor', 'junction', 'mechanical', 'inductor.ferrite', 'socket', 'voltage.ac', 'diode.light_emitting', 'not', 'integrated_circuit.ne555', 'optical'}\n"
     ]
    },
    {
     "data": {
      "text/plain": [
       "0"
      ]
     },
     "execution_count": 8,
     "metadata": {},
     "output_type": "execute_result"
    }
   ],
   "source": [
    "classes = set()\n",
    "boxes = {}\n",
    "imgs = {}\n",
    "\n",
    "\n",
    "directory = f'/kaggle/working/train/'\n",
    "for file in os.listdir(directory):\n",
    "        if file.endswith(\".csv\"):\n",
    "            df = pd.read_csv(directory + file)\n",
    "            classes.update(df['object'].tolist())\n",
    "\n",
    "label_mapping = {label: i for i, label in enumerate(classes, start = 1)}\n",
    "\n",
    "num_classes = len(classes) + 1\n",
    "print(classes)\n",
    "gc.collect()"
   ]
  },
  {
   "cell_type": "code",
   "execution_count": 9,
   "id": "ab142327",
   "metadata": {
    "execution": {
     "iopub.execute_input": "2024-04-30T11:20:13.278537Z",
     "iopub.status.busy": "2024-04-30T11:20:13.278238Z",
     "iopub.status.idle": "2024-04-30T11:20:16.660416Z",
     "shell.execute_reply": "2024-04-30T11:20:16.659393Z"
    },
    "papermill": {
     "duration": 3.463205,
     "end_time": "2024-04-30T11:20:16.662681",
     "exception": false,
     "start_time": "2024-04-30T11:20:13.199476",
     "status": "completed"
    },
    "tags": []
   },
   "outputs": [
    {
     "name": "stdout",
     "output_type": "stream",
     "text": [
      "CREATED TRAIN DATASET\n",
      "CREATED TEST DATASET\n"
     ]
    },
    {
     "name": "stderr",
     "output_type": "stream",
     "text": [
      "Downloading: \"https://download.pytorch.org/models/fasterrcnn_resnet50_fpn_v2_coco-dd69338a.pth\" to /root/.cache/torch/hub/checkpoints/fasterrcnn_resnet50_fpn_v2_coco-dd69338a.pth\n",
      "100%|██████████| 167M/167M [00:01<00:00, 89.7MB/s]\n"
     ]
    }
   ],
   "source": [
    "def collate_fn(batch):\n",
    "    images, targets = zip(*batch)\n",
    "    images = torch.stack(images)\n",
    "    return images, targets\n",
    "\n",
    "class CircuitDataset(Dataset):\n",
    "    def __init__(self, folder, target_size=(512, 512)):\n",
    "        self.folder = folder\n",
    "        self.theight, self.twidth = target_size\n",
    "        self.names = self.indexes()\n",
    "    \n",
    "    def indexes(self):\n",
    "        names = []\n",
    "        for filename in os.listdir(self.folder):\n",
    "            if filename.endswith('.csv'):\n",
    "                name = filename.split('.')[0]\n",
    "                names.append(name)\n",
    "        return names\n",
    "    \n",
    "    def __len__(self):\n",
    "        count = 0\n",
    "        for path in os.listdir(self.folder):\n",
    "            if path.endswith('.csv'):\n",
    "                count += 1\n",
    "        return count\n",
    "\n",
    "    def __getitem__(self, idx):\n",
    "        image_path = os.path.join(self.folder, self.names[idx] + '.jpg')\n",
    "        boxes_path = os.path.join(self.folder, self.names[idx] + '.csv')\n",
    "        df = pd.read_csv(boxes_path)\n",
    "        temp = df[['xmin', 'ymin', 'xmax', 'ymax']].to_numpy()\n",
    "        temp2 = [label_mapping[obj] for obj in df['object'].tolist()]\n",
    "        boxes = {'boxes': t.from_numpy(temp), 'labels': t.tensor(temp2)}\n",
    "        del temp, temp2\n",
    "        gc.collect()\n",
    "        image = Image.open(image_path)\n",
    "        if image.mode != 'RGB':\n",
    "            image = image.convert('RGB')\n",
    "            \n",
    "        og_dims = torch.tensor([image.width, image.height, image.width, image.height])\n",
    "        image = F.resize(image, (self.theight, self.twidth))\n",
    "\n",
    "        scaled_boxes = (boxes['boxes'] / og_dims) * torch.tensor([self.twidth, self.theight, self.twidth, self.theight])\n",
    "        # Validate and remove boxes with zero area\n",
    "        valid_boxes, valid_indices = self.validate_boxes(scaled_boxes)\n",
    "\n",
    "        image = F.to_tensor(image)\n",
    "        boxes['boxes'] = valid_boxes.to(torch.float64)\n",
    "        boxes['labels'] = torch.tensor([boxes['labels'][i] for i in valid_indices], dtype=torch.int64)\n",
    "        \n",
    "        del scaled_boxes\n",
    "        gc.collect()\n",
    "        return image, boxes\n",
    "\n",
    "    def validate_boxes(self, boxes):\n",
    "        widths = boxes[:, 2] - boxes[:, 0]\n",
    "        heights = boxes[:, 3] - boxes[:, 1]\n",
    "        valid_indices = (widths > 0) & (heights > 0)\n",
    "        return boxes[valid_indices], valid_indices.nonzero(as_tuple=True)[0]\n",
    "\n",
    "train_folder = f'/kaggle/working/train'\n",
    "test_folder = f'/kaggle/working/test'\n",
    "train_dataset = CircuitDataset(train_folder)\n",
    "print(\"CREATED TRAIN DATASET\")\n",
    "test_dataset = CircuitDataset(test_folder)\n",
    "print(\"CREATED TEST DATASET\")\n",
    "\n",
    "train_data_loader = DataLoader(train_dataset, batch_size = 16, shuffle = True, collate_fn = collate_fn, pin_memory = True)\n",
    "test_data_loader = DataLoader(test_dataset, batch_size = 16, shuffle = True, collate_fn = collate_fn, pin_memory = True)\n",
    "model = models.detection.fasterrcnn_resnet50_fpn_v2(pretrained=True)\n",
    "in_features = model.roi_heads.box_predictor.cls_score.in_features\n",
    "model.roi_heads.box_predictor = models.detection.faster_rcnn.FastRCNNPredictor(in_features, num_classes)\n",
    "\n",
    "criterion = nn.SmoothL1Loss()\n",
    "\n",
    "optimizer = optim.Adam(model.parameters(), lr=1e-5, amsgrad = True)\n",
    "if torch.cuda.is_available():\n",
    "    device = torch.device('cuda')\n",
    "    model = nn.DataParallel(model)\n",
    "    model.to(device)\n",
    "else:\n",
    "    device = torch.device('cpu')\n",
    "    model.to(device)"
   ]
  },
  {
   "cell_type": "code",
   "execution_count": 10,
   "id": "8382881c",
   "metadata": {
    "execution": {
     "iopub.execute_input": "2024-04-30T11:20:16.820997Z",
     "iopub.status.busy": "2024-04-30T11:20:16.820666Z",
     "iopub.status.idle": "2024-04-30T11:20:16.827614Z",
     "shell.execute_reply": "2024-04-30T11:20:16.826737Z"
    },
    "papermill": {
     "duration": 0.087896,
     "end_time": "2024-04-30T11:20:16.829583",
     "exception": false,
     "start_time": "2024-04-30T11:20:16.741687",
     "status": "completed"
    },
    "tags": []
   },
   "outputs": [],
   "source": [
    "def print_gpu_memory():\n",
    "    if torch.cuda.is_available():\n",
    "        print(\"GPU Memory:\")\n",
    "        for i in range(torch.cuda.device_count()):\n",
    "            t = torch.cuda.get_device_properties(i).total_memory\n",
    "            r = torch.cuda.memory_reserved(i)\n",
    "            a = torch.cuda.memory_allocated(i)\n",
    "            f = r-a \n",
    "            print(f\"  GPU {i}: Total = {t/(1024**3):.2f} GB, Reserved = {r/(1024**3):.2f} GB, Allocated = {a/(1024**3):.2f} GB, Free (within reserved) = {f/(1024**3):.2f} GB\")\n",
    "    else:\n",
    "        print(\"No CUDA-capable device is detected\")\n",
    "\n",
    "\n",
    "def print_system_memory():\n",
    "    memory = psutil.virtual_memory()\n",
    "    total = memory.total / (1024**3)\n",
    "    available = memory.available / (1024**3)\n",
    "    print(f\"System Memory: Total = {total:.2f} GB, Available = {available:.2f} GB\")"
   ]
  },
  {
   "cell_type": "code",
   "execution_count": 11,
   "id": "91f5d96c",
   "metadata": {
    "execution": {
     "iopub.execute_input": "2024-04-30T11:20:16.991845Z",
     "iopub.status.busy": "2024-04-30T11:20:16.991566Z",
     "iopub.status.idle": "2024-04-30T15:00:51.738297Z",
     "shell.execute_reply": "2024-04-30T15:00:51.737196Z"
    },
    "papermill": {
     "duration": 13234.915909,
     "end_time": "2024-04-30T15:00:51.824939",
     "exception": false,
     "start_time": "2024-04-30T11:20:16.909030",
     "status": "completed"
    },
    "tags": []
   },
   "outputs": [
    {
     "name": "stdout",
     "output_type": "stream",
     "text": [
      "TRAINING MODEL\n",
      "GPU Memory:\n",
      "  GPU 0: Total = 14.75 GB, Reserved = 1.77 GB, Allocated = 0.84 GB, Free (within reserved) = 0.93 GB\n",
      "  GPU 1: Total = 14.75 GB, Reserved = 0.84 GB, Allocated = 0.02 GB, Free (within reserved) = 0.83 GB\n",
      "System Memory: Total = 31.36 GB, Available = 28.39 GB\n",
      "Epoch [1/10], Loss: 6.687018089451741\n",
      "GPU Memory:\n",
      "  GPU 0: Total = 14.75 GB, Reserved = 1.69 GB, Allocated = 0.84 GB, Free (within reserved) = 0.85 GB\n",
      "  GPU 1: Total = 14.75 GB, Reserved = 0.84 GB, Allocated = 0.02 GB, Free (within reserved) = 0.83 GB\n",
      "System Memory: Total = 31.36 GB, Available = 28.38 GB\n",
      "Epoch [2/10], Loss: 3.3403911503780175\n",
      "GPU Memory:\n",
      "  GPU 0: Total = 14.75 GB, Reserved = 1.80 GB, Allocated = 0.84 GB, Free (within reserved) = 0.96 GB\n",
      "  GPU 1: Total = 14.75 GB, Reserved = 0.84 GB, Allocated = 0.02 GB, Free (within reserved) = 0.83 GB\n",
      "System Memory: Total = 31.36 GB, Available = 28.34 GB\n",
      "Epoch [3/10], Loss: 3.017650898429466\n",
      "GPU Memory:\n",
      "  GPU 0: Total = 14.75 GB, Reserved = 2.14 GB, Allocated = 0.84 GB, Free (within reserved) = 1.30 GB\n",
      "  GPU 1: Total = 14.75 GB, Reserved = 0.84 GB, Allocated = 0.02 GB, Free (within reserved) = 0.83 GB\n",
      "System Memory: Total = 31.36 GB, Available = 28.36 GB\n",
      "Epoch [4/10], Loss: 2.9723301933033857\n",
      "GPU Memory:\n",
      "  GPU 0: Total = 14.75 GB, Reserved = 2.02 GB, Allocated = 0.84 GB, Free (within reserved) = 1.18 GB\n",
      "  GPU 1: Total = 14.75 GB, Reserved = 0.84 GB, Allocated = 0.02 GB, Free (within reserved) = 0.83 GB\n",
      "System Memory: Total = 31.36 GB, Available = 28.38 GB\n",
      "Epoch [5/10], Loss: 2.793075781241612\n",
      "GPU Memory:\n",
      "  GPU 0: Total = 14.75 GB, Reserved = 1.62 GB, Allocated = 0.84 GB, Free (within reserved) = 0.78 GB\n",
      "  GPU 1: Total = 14.75 GB, Reserved = 0.84 GB, Allocated = 0.02 GB, Free (within reserved) = 0.83 GB\n",
      "System Memory: Total = 31.36 GB, Available = 28.36 GB\n",
      "Epoch [6/10], Loss: 2.7314899881766905\n",
      "GPU Memory:\n",
      "  GPU 0: Total = 14.75 GB, Reserved = 1.67 GB, Allocated = 0.84 GB, Free (within reserved) = 0.84 GB\n",
      "  GPU 1: Total = 14.75 GB, Reserved = 0.84 GB, Allocated = 0.02 GB, Free (within reserved) = 0.83 GB\n",
      "System Memory: Total = 31.36 GB, Available = 28.35 GB\n",
      "Epoch [7/10], Loss: 2.600783838192645\n",
      "GPU Memory:\n",
      "  GPU 0: Total = 14.75 GB, Reserved = 1.91 GB, Allocated = 0.84 GB, Free (within reserved) = 1.07 GB\n",
      "  GPU 1: Total = 14.75 GB, Reserved = 0.84 GB, Allocated = 0.02 GB, Free (within reserved) = 0.83 GB\n",
      "System Memory: Total = 31.36 GB, Available = 28.36 GB\n",
      "Epoch [8/10], Loss: 2.599625873760021\n",
      "GPU Memory:\n",
      "  GPU 0: Total = 14.75 GB, Reserved = 1.60 GB, Allocated = 0.84 GB, Free (within reserved) = 0.76 GB\n",
      "  GPU 1: Total = 14.75 GB, Reserved = 0.84 GB, Allocated = 0.02 GB, Free (within reserved) = 0.83 GB\n",
      "System Memory: Total = 31.36 GB, Available = 28.36 GB\n",
      "Epoch [9/10], Loss: 2.534169229009633\n",
      "GPU Memory:\n",
      "  GPU 0: Total = 14.75 GB, Reserved = 1.66 GB, Allocated = 0.84 GB, Free (within reserved) = 0.82 GB\n",
      "  GPU 1: Total = 14.75 GB, Reserved = 0.84 GB, Allocated = 0.02 GB, Free (within reserved) = 0.83 GB\n",
      "System Memory: Total = 31.36 GB, Available = 28.36 GB\n",
      "Epoch [10/10], Loss: 2.488228579744816\n",
      "MODEL TRAINED\n"
     ]
    }
   ],
   "source": [
    "print(\"TRAINING MODEL\")\n",
    "num_epochs = 10\n",
    "model.train()\n",
    "for epoch in range(num_epochs):\n",
    "    running_loss = None\n",
    "    for images, targets in train_data_loader:\n",
    "        images = images.to(device)\n",
    "        targets = [{k: v.to(device) for k, v in t.items()} for t in targets]\n",
    "        optimizer.zero_grad()\n",
    "        loss_dict = model(images, targets)\n",
    "        losses = sum(loss for loss in loss_dict.values())\n",
    "        losses.sum().backward()\n",
    "        optimizer.step()\n",
    "        if running_loss is None:\n",
    "            running_loss = losses.sum().cpu().detach().numpy()\n",
    "        else: \n",
    "            running_loss += losses.sum().cpu().detach().numpy()\n",
    "        del losses, loss_dict, images, targets\n",
    "        torch.cuda.empty_cache() ##This is to make sure it does not crash\n",
    "        gc.collect()\n",
    "    print_gpu_memory()\n",
    "    print_system_memory()\n",
    "    print(f'Epoch [{epoch+1}/{num_epochs}], Loss: {running_loss/len(train_data_loader)}')\n",
    "print(\"MODEL TRAINED\")\n",
    "    \n",
    "torch.save(model.state_dict(), 'faster_rcnn_model.pth')"
   ]
  },
  {
   "cell_type": "code",
   "execution_count": 12,
   "id": "f3611976",
   "metadata": {
    "execution": {
     "iopub.execute_input": "2024-04-30T15:00:51.997699Z",
     "iopub.status.busy": "2024-04-30T15:00:51.997363Z",
     "iopub.status.idle": "2024-04-30T15:00:52.002007Z",
     "shell.execute_reply": "2024-04-30T15:00:52.001063Z"
    },
    "papermill": {
     "duration": 0.093241,
     "end_time": "2024-04-30T15:00:52.004466",
     "exception": false,
     "start_time": "2024-04-30T15:00:51.911225",
     "status": "completed"
    },
    "tags": []
   },
   "outputs": [
    {
     "name": "stdout",
     "output_type": "stream",
     "text": [
      "SAVED MODEL\n"
     ]
    }
   ],
   "source": [
    "print(\"SAVED MODEL\")"
   ]
  },
  {
   "cell_type": "code",
   "execution_count": 13,
   "id": "b3db1346",
   "metadata": {
    "execution": {
     "iopub.execute_input": "2024-04-30T15:00:52.177091Z",
     "iopub.status.busy": "2024-04-30T15:00:52.176686Z",
     "iopub.status.idle": "2024-04-30T15:00:53.145925Z",
     "shell.execute_reply": "2024-04-30T15:00:53.144817Z"
    },
    "papermill": {
     "duration": 1.05764,
     "end_time": "2024-04-30T15:00:53.148197",
     "exception": false,
     "start_time": "2024-04-30T15:00:52.090557",
     "status": "completed"
    },
    "tags": []
   },
   "outputs": [
    {
     "name": "stdout",
     "output_type": "stream",
     "text": [
      "NOTEBOOK FINISHED\n"
     ]
    }
   ],
   "source": [
    "shutil.rmtree('dataset')\n",
    "shutil.rmtree('train')\n",
    "shutil.rmtree('test')\n",
    "print(\"NOTEBOOK FINISHED\")"
   ]
  }
 ],
 "metadata": {
  "kaggle": {
   "accelerator": "nvidiaTeslaT4",
   "dataSources": [
    {
     "datasetId": 2027239,
     "sourceId": 7512721,
     "sourceType": "datasetVersion"
    }
   ],
   "dockerImageVersionId": 30683,
   "isGpuEnabled": true,
   "isInternetEnabled": true,
   "language": "python",
   "sourceType": "notebook"
  },
  "kernelspec": {
   "display_name": "Python 3",
   "language": "python",
   "name": "python3"
  },
  "language_info": {
   "codemirror_mode": {
    "name": "ipython",
    "version": 3
   },
   "file_extension": ".py",
   "mimetype": "text/x-python",
   "name": "python",
   "nbconvert_exporter": "python",
   "pygments_lexer": "ipython3",
   "version": "3.10.13"
  },
  "papermill": {
   "default_parameters": {},
   "duration": 13553.194719,
   "end_time": "2024-04-30T15:00:55.813524",
   "environment_variables": {},
   "exception": null,
   "input_path": "__notebook__.ipynb",
   "output_path": "__notebook__.ipynb",
   "parameters": {},
   "start_time": "2024-04-30T11:15:02.618805",
   "version": "2.5.0"
  }
 },
 "nbformat": 4,
 "nbformat_minor": 5
}
