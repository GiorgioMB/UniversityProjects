{
 "cells": [
  {
   "cell_type": "markdown",
   "id": "6a5ae234",
   "metadata": {
    "papermill": {
     "duration": 0.005769,
     "end_time": "2024-05-05T06:41:55.666569",
     "exception": false,
     "start_time": "2024-05-05T06:41:55.660800",
     "status": "completed"
    },
    "tags": []
   },
   "source": [
    "This is the version to run"
   ]
  },
  {
   "cell_type": "code",
   "execution_count": 1,
   "id": "e9b52777",
   "metadata": {
    "execution": {
     "iopub.execute_input": "2024-05-05T06:41:55.679064Z",
     "iopub.status.busy": "2024-05-05T06:41:55.678690Z",
     "iopub.status.idle": "2024-05-05T06:44:33.401258Z",
     "shell.execute_reply": "2024-05-05T06:44:33.400011Z"
    },
    "papermill": {
     "duration": 157.731339,
     "end_time": "2024-05-05T06:44:33.403614",
     "exception": false,
     "start_time": "2024-05-05T06:41:55.672275",
     "status": "completed"
    },
    "tags": []
   },
   "outputs": [
    {
     "name": "stdout",
     "output_type": "stream",
     "text": [
      "BEGIN DOWNLOAD\n",
      "Requirement already satisfied: torch in /opt/conda/lib/python3.10/site-packages (2.1.2)\r\n",
      "Collecting torch\r\n",
      "  Downloading torch-2.3.0-cp310-cp310-manylinux1_x86_64.whl.metadata (26 kB)\r\n",
      "Requirement already satisfied: filelock in /opt/conda/lib/python3.10/site-packages (from torch) (3.13.1)\r\n",
      "Requirement already satisfied: typing-extensions>=4.8.0 in /opt/conda/lib/python3.10/site-packages (from torch) (4.9.0)\r\n",
      "Requirement already satisfied: sympy in /opt/conda/lib/python3.10/site-packages (from torch) (1.12)\r\n",
      "Requirement already satisfied: networkx in /opt/conda/lib/python3.10/site-packages (from torch) (3.2.1)\r\n",
      "Requirement already satisfied: jinja2 in /opt/conda/lib/python3.10/site-packages (from torch) (3.1.2)\r\n",
      "Requirement already satisfied: fsspec in /opt/conda/lib/python3.10/site-packages (from torch) (2024.2.0)\r\n",
      "Collecting nvidia-cuda-nvrtc-cu12==12.1.105 (from torch)\r\n",
      "  Downloading nvidia_cuda_nvrtc_cu12-12.1.105-py3-none-manylinux1_x86_64.whl.metadata (1.5 kB)\r\n",
      "Collecting nvidia-cuda-runtime-cu12==12.1.105 (from torch)\r\n",
      "  Downloading nvidia_cuda_runtime_cu12-12.1.105-py3-none-manylinux1_x86_64.whl.metadata (1.5 kB)\r\n",
      "Collecting nvidia-cuda-cupti-cu12==12.1.105 (from torch)\r\n",
      "  Downloading nvidia_cuda_cupti_cu12-12.1.105-py3-none-manylinux1_x86_64.whl.metadata (1.6 kB)\r\n",
      "Collecting nvidia-cudnn-cu12==8.9.2.26 (from torch)\r\n",
      "  Downloading nvidia_cudnn_cu12-8.9.2.26-py3-none-manylinux1_x86_64.whl.metadata (1.6 kB)\r\n",
      "Collecting nvidia-cublas-cu12==12.1.3.1 (from torch)\r\n",
      "  Downloading nvidia_cublas_cu12-12.1.3.1-py3-none-manylinux1_x86_64.whl.metadata (1.5 kB)\r\n",
      "Collecting nvidia-cufft-cu12==11.0.2.54 (from torch)\r\n",
      "  Downloading nvidia_cufft_cu12-11.0.2.54-py3-none-manylinux1_x86_64.whl.metadata (1.5 kB)\r\n",
      "Collecting nvidia-curand-cu12==10.3.2.106 (from torch)\r\n",
      "  Downloading nvidia_curand_cu12-10.3.2.106-py3-none-manylinux1_x86_64.whl.metadata (1.5 kB)\r\n",
      "Collecting nvidia-cusolver-cu12==11.4.5.107 (from torch)\r\n",
      "  Downloading nvidia_cusolver_cu12-11.4.5.107-py3-none-manylinux1_x86_64.whl.metadata (1.6 kB)\r\n",
      "Collecting nvidia-cusparse-cu12==12.1.0.106 (from torch)\r\n",
      "  Downloading nvidia_cusparse_cu12-12.1.0.106-py3-none-manylinux1_x86_64.whl.metadata (1.6 kB)\r\n",
      "Collecting nvidia-nccl-cu12==2.20.5 (from torch)\r\n",
      "  Downloading nvidia_nccl_cu12-2.20.5-py3-none-manylinux2014_x86_64.whl.metadata (1.8 kB)\r\n",
      "Collecting nvidia-nvtx-cu12==12.1.105 (from torch)\r\n",
      "  Downloading nvidia_nvtx_cu12-12.1.105-py3-none-manylinux1_x86_64.whl.metadata (1.7 kB)\r\n",
      "Collecting triton==2.3.0 (from torch)\r\n",
      "  Downloading triton-2.3.0-cp310-cp310-manylinux_2_17_x86_64.manylinux2014_x86_64.whl.metadata (1.4 kB)\r\n",
      "Collecting nvidia-nvjitlink-cu12 (from nvidia-cusolver-cu12==11.4.5.107->torch)\r\n",
      "  Downloading nvidia_nvjitlink_cu12-12.4.127-py3-none-manylinux2014_x86_64.whl.metadata (1.5 kB)\r\n",
      "Requirement already satisfied: MarkupSafe>=2.0 in /opt/conda/lib/python3.10/site-packages (from jinja2->torch) (2.1.3)\r\n",
      "Requirement already satisfied: mpmath>=0.19 in /opt/conda/lib/python3.10/site-packages (from sympy->torch) (1.3.0)\r\n",
      "Downloading torch-2.3.0-cp310-cp310-manylinux1_x86_64.whl (779.1 MB)\r\n",
      "\u001b[2K   \u001b[90m━━━━━━━━━━━━━━━━━━━━━━━━━━━━━━━━━━━━━━━━\u001b[0m \u001b[32m779.1/779.1 MB\u001b[0m \u001b[31m2.1 MB/s\u001b[0m eta \u001b[36m0:00:00\u001b[0m\r\n",
      "\u001b[?25hDownloading nvidia_cublas_cu12-12.1.3.1-py3-none-manylinux1_x86_64.whl (410.6 MB)\r\n",
      "\u001b[2K   \u001b[90m━━━━━━━━━━━━━━━━━━━━━━━━━━━━━━━━━━━━━━━━\u001b[0m \u001b[32m410.6/410.6 MB\u001b[0m \u001b[31m3.8 MB/s\u001b[0m eta \u001b[36m0:00:00\u001b[0m\r\n",
      "\u001b[?25hDownloading nvidia_cuda_cupti_cu12-12.1.105-py3-none-manylinux1_x86_64.whl (14.1 MB)\r\n",
      "\u001b[2K   \u001b[90m━━━━━━━━━━━━━━━━━━━━━━━━━━━━━━━━━━━━━━━━\u001b[0m \u001b[32m14.1/14.1 MB\u001b[0m \u001b[31m85.6 MB/s\u001b[0m eta \u001b[36m0:00:00\u001b[0m\r\n",
      "\u001b[?25hDownloading nvidia_cuda_nvrtc_cu12-12.1.105-py3-none-manylinux1_x86_64.whl (23.7 MB)\r\n",
      "\u001b[2K   \u001b[90m━━━━━━━━━━━━━━━━━━━━━━━━━━━━━━━━━━━━━━━━\u001b[0m \u001b[32m23.7/23.7 MB\u001b[0m \u001b[31m72.2 MB/s\u001b[0m eta \u001b[36m0:00:00\u001b[0m\r\n",
      "\u001b[?25hDownloading nvidia_cuda_runtime_cu12-12.1.105-py3-none-manylinux1_x86_64.whl (823 kB)\r\n",
      "\u001b[2K   \u001b[90m━━━━━━━━━━━━━━━━━━━━━━━━━━━━━━━━━━━━━━━━\u001b[0m \u001b[32m823.6/823.6 kB\u001b[0m \u001b[31m42.7 MB/s\u001b[0m eta \u001b[36m0:00:00\u001b[0m\r\n",
      "\u001b[?25hDownloading nvidia_cudnn_cu12-8.9.2.26-py3-none-manylinux1_x86_64.whl (731.7 MB)\r\n",
      "\u001b[2K   \u001b[90m━━━━━━━━━━━━━━━━━━━━━━━━━━━━━━━━━━━━━━━\u001b[0m \u001b[32m731.7/731.7 MB\u001b[0m \u001b[31m902.6 kB/s\u001b[0m eta \u001b[36m0:00:00\u001b[0m\r\n",
      "\u001b[?25hDownloading nvidia_cufft_cu12-11.0.2.54-py3-none-manylinux1_x86_64.whl (121.6 MB)\r\n",
      "\u001b[2K   \u001b[90m━━━━━━━━━━━━━━━━━━━━━━━━━━━━━━━━━━━━━━━━\u001b[0m \u001b[32m121.6/121.6 MB\u001b[0m \u001b[31m5.3 MB/s\u001b[0m eta \u001b[36m0:00:00\u001b[0m\r\n",
      "\u001b[?25hDownloading nvidia_curand_cu12-10.3.2.106-py3-none-manylinux1_x86_64.whl (56.5 MB)\r\n",
      "\u001b[2K   \u001b[90m━━━━━━━━━━━━━━━━━━━━━━━━━━━━━━━━━━━━━━━━\u001b[0m \u001b[32m56.5/56.5 MB\u001b[0m \u001b[31m10.9 MB/s\u001b[0m eta \u001b[36m0:00:00\u001b[0m\r\n",
      "\u001b[?25hDownloading nvidia_cusolver_cu12-11.4.5.107-py3-none-manylinux1_x86_64.whl (124.2 MB)\r\n",
      "\u001b[2K   \u001b[90m━━━━━━━━━━━━━━━━━━━━━━━━━━━━━━━━━━━━━━━━\u001b[0m \u001b[32m124.2/124.2 MB\u001b[0m \u001b[31m13.3 MB/s\u001b[0m eta \u001b[36m0:00:00\u001b[0m\r\n",
      "\u001b[?25hDownloading nvidia_cusparse_cu12-12.1.0.106-py3-none-manylinux1_x86_64.whl (196.0 MB)\r\n",
      "\u001b[2K   \u001b[90m━━━━━━━━━━━━━━━━━━━━━━━━━━━━━━━━━━━━━━━━\u001b[0m \u001b[32m196.0/196.0 MB\u001b[0m \u001b[31m8.3 MB/s\u001b[0m eta \u001b[36m0:00:00\u001b[0m\r\n",
      "\u001b[?25hDownloading nvidia_nccl_cu12-2.20.5-py3-none-manylinux2014_x86_64.whl (176.2 MB)\r\n",
      "\u001b[2K   \u001b[90m━━━━━━━━━━━━━━━━━━━━━━━━━━━━━━━━━━━━━━━━\u001b[0m \u001b[32m176.2/176.2 MB\u001b[0m \u001b[31m8.9 MB/s\u001b[0m eta \u001b[36m0:00:00\u001b[0m\r\n",
      "\u001b[?25hDownloading nvidia_nvtx_cu12-12.1.105-py3-none-manylinux1_x86_64.whl (99 kB)\r\n",
      "\u001b[2K   \u001b[90m━━━━━━━━━━━━━━━━━━━━━━━━━━━━━━━━━━━━━━━━\u001b[0m \u001b[32m99.1/99.1 kB\u001b[0m \u001b[31m6.3 MB/s\u001b[0m eta \u001b[36m0:00:00\u001b[0m\r\n",
      "\u001b[?25hDownloading triton-2.3.0-cp310-cp310-manylinux_2_17_x86_64.manylinux2014_x86_64.whl (168.1 MB)\r\n",
      "\u001b[2K   \u001b[90m━━━━━━━━━━━━━━━━━━━━━━━━━━━━━━━━━━━━━━━━\u001b[0m \u001b[32m168.1/168.1 MB\u001b[0m \u001b[31m10.2 MB/s\u001b[0m eta \u001b[36m0:00:00\u001b[0m\r\n",
      "\u001b[?25hDownloading nvidia_nvjitlink_cu12-12.4.127-py3-none-manylinux2014_x86_64.whl (21.1 MB)\r\n",
      "\u001b[2K   \u001b[90m━━━━━━━━━━━━━━━━━━━━━━━━━━━━━━━━━━━━━━━━\u001b[0m \u001b[32m21.1/21.1 MB\u001b[0m \u001b[31m72.6 MB/s\u001b[0m eta \u001b[36m0:00:00\u001b[0m\r\n",
      "\u001b[?25hInstalling collected packages: triton, nvidia-nvtx-cu12, nvidia-nvjitlink-cu12, nvidia-nccl-cu12, nvidia-curand-cu12, nvidia-cufft-cu12, nvidia-cuda-runtime-cu12, nvidia-cuda-nvrtc-cu12, nvidia-cuda-cupti-cu12, nvidia-cublas-cu12, nvidia-cusparse-cu12, nvidia-cudnn-cu12, nvidia-cusolver-cu12, torch\r\n",
      "  Attempting uninstall: torch\r\n",
      "    Found existing installation: torch 2.1.2\r\n",
      "    Uninstalling torch-2.1.2:\r\n",
      "      Successfully uninstalled torch-2.1.2\r\n",
      "\u001b[31mERROR: pip's dependency resolver does not currently take into account all the packages that are installed. This behaviour is the source of the following dependency conflicts.\r\n",
      "fastai 2.7.14 requires torch<2.3,>=1.10, but you have torch 2.3.0 which is incompatible.\u001b[0m\u001b[31m\r\n",
      "\u001b[0mSuccessfully installed nvidia-cublas-cu12-12.1.3.1 nvidia-cuda-cupti-cu12-12.1.105 nvidia-cuda-nvrtc-cu12-12.1.105 nvidia-cuda-runtime-cu12-12.1.105 nvidia-cudnn-cu12-8.9.2.26 nvidia-cufft-cu12-11.0.2.54 nvidia-curand-cu12-10.3.2.106 nvidia-cusolver-cu12-11.4.5.107 nvidia-cusparse-cu12-12.1.0.106 nvidia-nccl-cu12-2.20.5 nvidia-nvjitlink-cu12-12.4.127 nvidia-nvtx-cu12-12.1.105 torch-2.3.0 triton-2.3.0\r\n",
      "DOWNLOADED PYTORCH\n",
      "Requirement already satisfied: torchvision in /opt/conda/lib/python3.10/site-packages (0.16.2)\r\n",
      "Collecting torchvision\r\n",
      "  Downloading torchvision-0.18.0-cp310-cp310-manylinux1_x86_64.whl.metadata (6.6 kB)\r\n",
      "Requirement already satisfied: numpy in /opt/conda/lib/python3.10/site-packages (from torchvision) (1.26.4)\r\n",
      "Requirement already satisfied: torch==2.3.0 in /opt/conda/lib/python3.10/site-packages (from torchvision) (2.3.0)\r\n",
      "Requirement already satisfied: pillow!=8.3.*,>=5.3.0 in /opt/conda/lib/python3.10/site-packages (from torchvision) (9.5.0)\r\n",
      "Requirement already satisfied: filelock in /opt/conda/lib/python3.10/site-packages (from torch==2.3.0->torchvision) (3.13.1)\r\n",
      "Requirement already satisfied: typing-extensions>=4.8.0 in /opt/conda/lib/python3.10/site-packages (from torch==2.3.0->torchvision) (4.9.0)\r\n",
      "Requirement already satisfied: sympy in /opt/conda/lib/python3.10/site-packages (from torch==2.3.0->torchvision) (1.12)\r\n",
      "Requirement already satisfied: networkx in /opt/conda/lib/python3.10/site-packages (from torch==2.3.0->torchvision) (3.2.1)\r\n",
      "Requirement already satisfied: jinja2 in /opt/conda/lib/python3.10/site-packages (from torch==2.3.0->torchvision) (3.1.2)\r\n",
      "Requirement already satisfied: fsspec in /opt/conda/lib/python3.10/site-packages (from torch==2.3.0->torchvision) (2024.2.0)\r\n",
      "Requirement already satisfied: nvidia-cuda-nvrtc-cu12==12.1.105 in /opt/conda/lib/python3.10/site-packages (from torch==2.3.0->torchvision) (12.1.105)\r\n",
      "Requirement already satisfied: nvidia-cuda-runtime-cu12==12.1.105 in /opt/conda/lib/python3.10/site-packages (from torch==2.3.0->torchvision) (12.1.105)\r\n",
      "Requirement already satisfied: nvidia-cuda-cupti-cu12==12.1.105 in /opt/conda/lib/python3.10/site-packages (from torch==2.3.0->torchvision) (12.1.105)\r\n",
      "Requirement already satisfied: nvidia-cudnn-cu12==8.9.2.26 in /opt/conda/lib/python3.10/site-packages (from torch==2.3.0->torchvision) (8.9.2.26)\r\n",
      "Requirement already satisfied: nvidia-cublas-cu12==12.1.3.1 in /opt/conda/lib/python3.10/site-packages (from torch==2.3.0->torchvision) (12.1.3.1)\r\n",
      "Requirement already satisfied: nvidia-cufft-cu12==11.0.2.54 in /opt/conda/lib/python3.10/site-packages (from torch==2.3.0->torchvision) (11.0.2.54)\r\n",
      "Requirement already satisfied: nvidia-curand-cu12==10.3.2.106 in /opt/conda/lib/python3.10/site-packages (from torch==2.3.0->torchvision) (10.3.2.106)\r\n",
      "Requirement already satisfied: nvidia-cusolver-cu12==11.4.5.107 in /opt/conda/lib/python3.10/site-packages (from torch==2.3.0->torchvision) (11.4.5.107)\r\n",
      "Requirement already satisfied: nvidia-cusparse-cu12==12.1.0.106 in /opt/conda/lib/python3.10/site-packages (from torch==2.3.0->torchvision) (12.1.0.106)\r\n",
      "Requirement already satisfied: nvidia-nccl-cu12==2.20.5 in /opt/conda/lib/python3.10/site-packages (from torch==2.3.0->torchvision) (2.20.5)\r\n",
      "Requirement already satisfied: nvidia-nvtx-cu12==12.1.105 in /opt/conda/lib/python3.10/site-packages (from torch==2.3.0->torchvision) (12.1.105)\r\n",
      "Requirement already satisfied: triton==2.3.0 in /opt/conda/lib/python3.10/site-packages (from torch==2.3.0->torchvision) (2.3.0)\r\n",
      "Requirement already satisfied: nvidia-nvjitlink-cu12 in /opt/conda/lib/python3.10/site-packages (from nvidia-cusolver-cu12==11.4.5.107->torch==2.3.0->torchvision) (12.4.127)\r\n",
      "Requirement already satisfied: MarkupSafe>=2.0 in /opt/conda/lib/python3.10/site-packages (from jinja2->torch==2.3.0->torchvision) (2.1.3)\r\n",
      "Requirement already satisfied: mpmath>=0.19 in /opt/conda/lib/python3.10/site-packages (from sympy->torch==2.3.0->torchvision) (1.3.0)\r\n",
      "Downloading torchvision-0.18.0-cp310-cp310-manylinux1_x86_64.whl (7.0 MB)\r\n",
      "\u001b[2K   \u001b[90m━━━━━━━━━━━━━━━━━━━━━━━━━━━━━━━━━━━━━━━━\u001b[0m \u001b[32m7.0/7.0 MB\u001b[0m \u001b[31m55.9 MB/s\u001b[0m eta \u001b[36m0:00:00\u001b[0m\r\n",
      "\u001b[?25hInstalling collected packages: torchvision\r\n",
      "  Attempting uninstall: torchvision\r\n",
      "    Found existing installation: torchvision 0.16.2\r\n",
      "    Uninstalling torchvision-0.16.2:\r\n",
      "      Successfully uninstalled torchvision-0.16.2\r\n",
      "\u001b[31mERROR: pip's dependency resolver does not currently take into account all the packages that are installed. This behaviour is the source of the following dependency conflicts.\r\n",
      "fastai 2.7.14 requires torch<2.3,>=1.10, but you have torch 2.3.0 which is incompatible.\u001b[0m\u001b[31m\r\n",
      "\u001b[0mSuccessfully installed torchvision-0.18.0\r\n",
      "DOWNLOADED PYTORCH-VISION\n"
     ]
    }
   ],
   "source": [
    "print(\"BEGIN DOWNLOAD\")\n",
    "!pip install torch --upgrade\n",
    "print(\"DOWNLOADED PYTORCH\")\n",
    "!pip install torchvision --upgrade\n",
    "print(\"DOWNLOADED PYTORCH-VISION\")"
   ]
  },
  {
   "cell_type": "code",
   "execution_count": 2,
   "id": "457aab33",
   "metadata": {
    "_cell_guid": "b1076dfc-b9ad-4769-8c92-a6c4dae69d19",
    "_uuid": "8f2839f25d086af736a60e9eeb907d3b93b6e0e5",
    "execution": {
     "iopub.execute_input": "2024-05-05T06:44:33.564718Z",
     "iopub.status.busy": "2024-05-05T06:44:33.564339Z",
     "iopub.status.idle": "2024-05-05T06:44:40.622937Z",
     "shell.execute_reply": "2024-05-05T06:44:40.621941Z"
    },
    "papermill": {
     "duration": 7.142066,
     "end_time": "2024-05-05T06:44:40.625275",
     "exception": false,
     "start_time": "2024-05-05T06:44:33.483209",
     "status": "completed"
    },
    "tags": []
   },
   "outputs": [
    {
     "name": "stdout",
     "output_type": "stream",
     "text": [
      "BEGIN IMPORTING THE LIBRARIES\n",
      "IMPORTED LIBRARIES\n",
      "CREATED FOLDERS\n"
     ]
    }
   ],
   "source": [
    "print(\"BEGIN IMPORTING THE LIBRARIES\")\n",
    "import os\n",
    "import csv\n",
    "import xml.etree.ElementTree as ET\n",
    "import json\n",
    "import torchvision as tv\n",
    "import torch as t\n",
    "import numpy as np\n",
    "import pandas as pd\n",
    "from torchvision.ops import box_iou\n",
    "import torch\n",
    "from torch.utils.data import Dataset, DataLoader\n",
    "from sklearn.model_selection import train_test_split\n",
    "import torchvision.transforms as transforms\n",
    "import torchvision.models as models\n",
    "import torch.optim as optim\n",
    "import torch.nn as nn\n",
    "import ssl\n",
    "import gc\n",
    "from PIL import Image\n",
    "import shutil\n",
    "import cv2\n",
    "from torchvision.transforms import functional as F\n",
    "import psutil\n",
    "import warnings\n",
    "warnings.filterwarnings('ignore') \n",
    "print(\"IMPORTED LIBRARIES\")\n",
    "ssl._create_default_https_context = ssl._create_unverified_context\n",
    "if not os.path.exists('dataset'):\n",
    "    os.mkdir('dataset')\n",
    "    os.mkdir('train')\n",
    "    os.mkdir('test')\n",
    "    os.mkdir('dataset/drafter_00')\n",
    "    print(\"CREATED FOLDERS\")"
   ]
  },
  {
   "cell_type": "code",
   "execution_count": 3,
   "id": "996996a8",
   "metadata": {
    "execution": {
     "iopub.execute_input": "2024-05-05T06:44:40.787245Z",
     "iopub.status.busy": "2024-05-05T06:44:40.786116Z",
     "iopub.status.idle": "2024-05-05T06:46:05.959013Z",
     "shell.execute_reply": "2024-05-05T06:46:05.957779Z"
    },
    "papermill": {
     "duration": 85.257318,
     "end_time": "2024-05-05T06:46:05.961687",
     "exception": false,
     "start_time": "2024-05-05T06:44:40.704369",
     "status": "completed"
    },
    "tags": []
   },
   "outputs": [],
   "source": [
    "!cp -r /kaggle/input/cghd1152/* /kaggle/working/dataset"
   ]
  },
  {
   "cell_type": "markdown",
   "id": "3412febc",
   "metadata": {
    "papermill": {
     "duration": 0.07888,
     "end_time": "2024-05-05T06:46:06.170337",
     "exception": false,
     "start_time": "2024-05-05T06:46:06.091457",
     "status": "completed"
    },
    "tags": []
   },
   "source": [
    "# Preprocessing"
   ]
  },
  {
   "cell_type": "code",
   "execution_count": 4,
   "id": "d233071e",
   "metadata": {
    "execution": {
     "iopub.execute_input": "2024-05-05T06:46:06.329622Z",
     "iopub.status.busy": "2024-05-05T06:46:06.329211Z",
     "iopub.status.idle": "2024-05-05T06:46:12.643782Z",
     "shell.execute_reply": "2024-05-05T06:46:12.642797Z"
    },
    "papermill": {
     "duration": 6.397404,
     "end_time": "2024-05-05T06:46:12.646299",
     "exception": false,
     "start_time": "2024-05-05T06:46:06.248895",
     "status": "completed"
    },
    "tags": []
   },
   "outputs": [
    {
     "name": "stdout",
     "output_type": "stream",
     "text": [
      "FILES MOVED\n",
      "BEGIN CREATING CSVS\n"
     ]
    }
   ],
   "source": [
    "print(\"FILES MOVED\")\n",
    "def read_labels(classes_json: str):\n",
    "    with open(classes_json, \"r\", encoding=\"utf-8\") as f:\n",
    "        label_map = json.load(f)\n",
    "    return label_map\n",
    "\n",
    "\n",
    "def xml_to_csv(xml_file, csv_file, label_map):\n",
    "    tree = ET.parse(xml_file)\n",
    "    root = tree.getroot()\n",
    "    with open(csv_file, \"w\", newline=\"\", encoding=\"utf-8\") as csv_file:\n",
    "        csv_writer = csv.writer(csv_file)\n",
    "        headers = [\n",
    "            \"Label\",\n",
    "            \"object\",\n",
    "            \"xmin\",\n",
    "            \"ymin\",\n",
    "            \"xmax\",\n",
    "            \"ymax\",\n",
    "            \"rotation\",\n",
    "            \"text\",\n",
    "        ]\n",
    "        csv_writer.writerow(headers)\n",
    "        for obj in root.findall(\".//object\"):\n",
    "            object_name = obj.find(\"name\").text\n",
    "            label = label_map.get(object_name, \"unknown\")\n",
    "            bndbox = obj.find(\"bndbox\")\n",
    "            xmin = bndbox.find(\"xmin\").text\n",
    "            ymin = bndbox.find(\"ymin\").text\n",
    "            xmax = bndbox.find(\"xmax\").text\n",
    "            ymax = bndbox.find(\"ymax\").text\n",
    "            rotation_element = bndbox.find(\"rotation\")\n",
    "            rotation = rotation_element.text if rotation_element is not None else \"\"\n",
    "            text_element = obj.find(\"text\")\n",
    "            text = text_element.text if text_element is not None else \"\"\n",
    "            row = [label, object_name, xmin, ymin, xmax, ymax, rotation, text]\n",
    "            csv_writer.writerow(row)\n",
    "\n",
    "\n",
    "def process_drafter_folders(label_map_file):\n",
    "    label_map = read_labels(label_map_file)\n",
    "    drafter_folders = [f\"/kaggle/working/dataset/drafter_{i}\" for i in range(26)]\n",
    "    for drafter_folder in drafter_folders:\n",
    "        annotations_folder = os.path.join(drafter_folder, \"annotations\")\n",
    "        csv_output_folder = os.path.join(drafter_folder, \"csvs\")\n",
    "        os.makedirs(csv_output_folder, exist_ok=True)\n",
    "        for xml_file in os.listdir(annotations_folder):\n",
    "            if xml_file.endswith(\".xml\"):\n",
    "                xml_file_path = os.path.join(annotations_folder, xml_file)\n",
    "                csv_file_path = os.path.join(\n",
    "                    csv_output_folder, f\"{os.path.splitext(xml_file)[0]}.csv\"\n",
    "                )\n",
    "\n",
    "                xml_to_csv(xml_file_path, csv_file_path, label_map)\n",
    "print(\"BEGIN CREATING CSVS\")\n",
    "process_drafter_folders(\"/kaggle/working/dataset/classes.json\")"
   ]
  },
  {
   "cell_type": "code",
   "execution_count": 5,
   "id": "be8185f9",
   "metadata": {
    "execution": {
     "iopub.execute_input": "2024-05-05T06:46:12.805208Z",
     "iopub.status.busy": "2024-05-05T06:46:12.804313Z",
     "iopub.status.idle": "2024-05-05T06:46:12.809237Z",
     "shell.execute_reply": "2024-05-05T06:46:12.808389Z"
    },
    "papermill": {
     "duration": 0.085811,
     "end_time": "2024-05-05T06:46:12.811177",
     "exception": false,
     "start_time": "2024-05-05T06:46:12.725366",
     "status": "completed"
    },
    "tags": []
   },
   "outputs": [
    {
     "name": "stdout",
     "output_type": "stream",
     "text": [
      "CSV FILES CREATED\n"
     ]
    }
   ],
   "source": [
    "print(\"CSV FILES CREATED\")"
   ]
  },
  {
   "cell_type": "code",
   "execution_count": 6,
   "id": "bec5c215",
   "metadata": {
    "execution": {
     "iopub.execute_input": "2024-05-05T06:46:12.968885Z",
     "iopub.status.busy": "2024-05-05T06:46:12.968001Z",
     "iopub.status.idle": "2024-05-05T06:47:03.688751Z",
     "shell.execute_reply": "2024-05-05T06:47:03.687855Z"
    },
    "papermill": {
     "duration": 50.878751,
     "end_time": "2024-05-05T06:47:03.768218",
     "exception": false,
     "start_time": "2024-05-05T06:46:12.889467",
     "status": "completed"
    },
    "tags": []
   },
   "outputs": [
    {
     "name": "stdout",
     "output_type": "stream",
     "text": [
      "BEGIN TRAIN-TEST SPLITTING\n",
      "TRAINING FOLDER FILLED\n",
      "TEST FOLDER FILLED\n"
     ]
    }
   ],
   "source": [
    "print(\"BEGIN TRAIN-TEST SPLITTING\")\n",
    "for i in range(1, 25):\n",
    "    img_folder = f\"/kaggle/working/dataset/drafter_{i}/images/\"\n",
    "    csv_folder = f\"/kaggle/working/dataset/drafter_{i}/csvs/\"\n",
    "\n",
    "    for file in os.listdir(img_folder):\n",
    "        if file.split('.')[0] + '.csv' in os.listdir(csv_folder):\n",
    "            shutil.move(img_folder + file, \"train/\" + file.split(\".\")[0] + \".jpg\")\n",
    "            shutil.move(\n",
    "                csv_folder + file.split(\".\")[0] + \".csv\",\n",
    "                \"train/\" + file.split(\".\")[0] + \".csv\",\n",
    "            )\n",
    "\n",
    "\n",
    "for file in os.listdir(\"/kaggle/working/dataset/drafter_0/images/\"):\n",
    "    image = cv2.imread(\"/kaggle/working/dataset/drafter_0/images/\" + file)\n",
    "    cv2.imwrite(\n",
    "        \"/kaggle/working/dataset/drafter_00/\" + file.split(\".\")[0] + \".jpg\",\n",
    "        image,\n",
    "        [int(cv2.IMWRITE_JPEG_QUALITY), 100],\n",
    "    )\n",
    "\n",
    "img_folder = \"/kaggle/working/dataset/drafter_00/\"\n",
    "csv_folder = \"/kaggle/working/dataset/drafter_0/csvs/\"\n",
    "\n",
    "for file in os.listdir(img_folder):\n",
    "    if file.split('.')[0] + '.csv' in os.listdir(csv_folder):\n",
    "        shutil.move(\n",
    "            img_folder + file,\n",
    "            \"train/\" + file.split(\".\")[0] + \".jpg\",\n",
    "        )\n",
    "        shutil.move(\n",
    "            csv_folder + file.split(\".\")[0] + \".csv\",\n",
    "            \"train/\" + file.split(\".\")[0] + \".csv\",\n",
    "    )\n",
    "print(\"TRAINING FOLDER FILLED\")\n",
    "for i in range(25, 26):\n",
    "    img_folder = f\"/kaggle/working/dataset/drafter_{i}/images/\"\n",
    "    csv_folder = f\"/kaggle/working/dataset/drafter_{i}/csvs/\"\n",
    "\n",
    "    for file in os.listdir(img_folder):\n",
    "        if file.split('.')[0] + '.csv' in os.listdir(csv_folder):\n",
    "            shutil.move(img_folder + file, \"test/\" + file.split(\".\")[0] + \".jpg\")\n",
    "            shutil.move(\n",
    "                csv_folder + file.split(\".\")[0] + \".csv\",\n",
    "                \"test/\" + file.split(\".\")[0] + \".csv\",\n",
    "            )\n",
    "print(\"TEST FOLDER FILLED\")"
   ]
  },
  {
   "cell_type": "code",
   "execution_count": 7,
   "id": "65c8cb83",
   "metadata": {
    "execution": {
     "iopub.execute_input": "2024-05-05T06:47:03.925208Z",
     "iopub.status.busy": "2024-05-05T06:47:03.924530Z",
     "iopub.status.idle": "2024-05-05T06:47:03.932653Z",
     "shell.execute_reply": "2024-05-05T06:47:03.931594Z"
    },
    "papermill": {
     "duration": 0.08819,
     "end_time": "2024-05-05T06:47:03.934499",
     "exception": false,
     "start_time": "2024-05-05T06:47:03.846309",
     "status": "completed"
    },
    "tags": []
   },
   "outputs": [
    {
     "name": "stdout",
     "output_type": "stream",
     "text": [
      "NUMBER OF TRAINING IMAGES: 4902\n"
     ]
    }
   ],
   "source": [
    "print(\"NUMBER OF TRAINING IMAGES:\",len(os.listdir('train')))"
   ]
  },
  {
   "cell_type": "markdown",
   "id": "fac9cb83",
   "metadata": {
    "papermill": {
     "duration": 0.076832,
     "end_time": "2024-05-05T06:47:04.088648",
     "exception": false,
     "start_time": "2024-05-05T06:47:04.011816",
     "status": "completed"
    },
    "tags": []
   },
   "source": [
    "# Model Training"
   ]
  },
  {
   "cell_type": "code",
   "execution_count": 8,
   "id": "4063d28f",
   "metadata": {
    "execution": {
     "iopub.execute_input": "2024-05-05T06:47:04.247050Z",
     "iopub.status.busy": "2024-05-05T06:47:04.246268Z",
     "iopub.status.idle": "2024-05-05T06:47:08.265742Z",
     "shell.execute_reply": "2024-05-05T06:47:08.264778Z"
    },
    "papermill": {
     "duration": 4.101037,
     "end_time": "2024-05-05T06:47:08.267701",
     "exception": false,
     "start_time": "2024-05-05T06:47:04.166664",
     "status": "completed"
    },
    "tags": []
   },
   "outputs": [
    {
     "name": "stdout",
     "output_type": "stream",
     "text": [
      "PRINT CLASSES TO NUMBERS: {'diode': 1, 'transistor.bjt': 2, 'nor': 3, 'operational_amplifier': 4, 'speaker': 5, 'integrated_circuit': 6, 'voltage.battery': 7, 'voltage.ac': 8, 'resistor': 9, 'optical': 10, 'crystal': 11, 'transistor.photo': 12, 'capacitor.polarized': 13, 'relay': 14, 'crossover': 15, 'switch': 16, 'microphone': 17, 'probe': 18, 'terminal': 19, 'nand': 20, 'mechanical': 21, 'xor': 22, 'vss': 23, 'probe.current': 24, 'diode.zener': 25, 'transistor.fet': 26, 'and': 27, 'text': 28, 'capacitor.adjustable': 29, 'triac': 30, 'capacitor.unpolarized': 31, 'resistor.photo': 32, 'gnd': 33, 'diode.light_emitting': 34, 'voltage.dc': 35, 'integrated_circuit.ne555': 36, 'operational_amplifier.schmitt_trigger': 37, 'magnetic': 38, 'resistor.adjustable': 39, 'not': 40, 'integrated_circuit.voltage_regulator': 41, 'lamp': 42, 'varistor': 43, 'socket': 44, 'unknown': 45, 'thyristor': 46, 'junction': 47, 'optocoupler': 48, 'probe.voltage': 49, 'or': 50, 'antenna': 51, 'transformer': 52, 'inductor': 53, 'diode.thyrector': 54, 'fuse': 55, 'inductor.ferrite': 56, 'diac': 57, 'motor': 58}\n"
     ]
    },
    {
     "data": {
      "text/plain": [
       "0"
      ]
     },
     "execution_count": 8,
     "metadata": {},
     "output_type": "execute_result"
    }
   ],
   "source": [
    "classes = set()\n",
    "boxes = {}\n",
    "imgs = {}\n",
    "\n",
    "\n",
    "directory = f'/kaggle/working/train/'\n",
    "for file in os.listdir(directory):\n",
    "        if file.endswith(\".csv\"):\n",
    "            df = pd.read_csv(directory + file)\n",
    "            classes.update(df['object'].tolist())\n",
    "\n",
    "label_mapping = {label: i for i, label in enumerate(classes, start = 1)}\n",
    "\n",
    "num_classes = len(classes) + 1\n",
    "print(\"PRINT CLASSES TO NUMBERS:\", label_mapping)\n",
    "gc.collect()"
   ]
  },
  {
   "cell_type": "code",
   "execution_count": 9,
   "id": "643b9fcc",
   "metadata": {
    "execution": {
     "iopub.execute_input": "2024-05-05T06:47:08.427668Z",
     "iopub.status.busy": "2024-05-05T06:47:08.427338Z",
     "iopub.status.idle": "2024-05-05T06:47:11.717582Z",
     "shell.execute_reply": "2024-05-05T06:47:11.716541Z"
    },
    "papermill": {
     "duration": 3.371997,
     "end_time": "2024-05-05T06:47:11.720016",
     "exception": false,
     "start_time": "2024-05-05T06:47:08.348019",
     "status": "completed"
    },
    "tags": []
   },
   "outputs": [
    {
     "name": "stdout",
     "output_type": "stream",
     "text": [
      "CREATED TRAIN DATASET\n",
      "CREATED TEST DATASET\n"
     ]
    },
    {
     "name": "stderr",
     "output_type": "stream",
     "text": [
      "Downloading: \"https://download.pytorch.org/models/fasterrcnn_resnet50_fpn_v2_coco-dd69338a.pth\" to /root/.cache/torch/hub/checkpoints/fasterrcnn_resnet50_fpn_v2_coco-dd69338a.pth\n",
      "100%|██████████| 167M/167M [00:02<00:00, 82.3MB/s]\n"
     ]
    }
   ],
   "source": [
    "def collate_fn(batch):\n",
    "    images, targets = zip(*batch)\n",
    "    images = torch.stack(images)\n",
    "    return images, targets\n",
    "\n",
    "class CircuitDataset(Dataset):\n",
    "    def __init__(self, folder, target_size=(1024, 1024)):\n",
    "        self.folder = folder\n",
    "        self.theight, self.twidth = target_size\n",
    "        self.names = self.indexes()\n",
    "    \n",
    "    def indexes(self):\n",
    "        names = []\n",
    "        for filename in os.listdir(self.folder):\n",
    "            if filename.endswith('.csv'):\n",
    "                name = filename.split('.')[0]\n",
    "                names.append(name)\n",
    "        return names\n",
    "    \n",
    "    def __len__(self):\n",
    "        count = 0\n",
    "        for path in os.listdir(self.folder):\n",
    "            if path.endswith('.csv'):\n",
    "                count += 1\n",
    "        return count\n",
    "\n",
    "    def __getitem__(self, idx):\n",
    "        image_path = os.path.join(self.folder, self.names[idx] + '.jpg')\n",
    "        boxes_path = os.path.join(self.folder, self.names[idx] + '.csv')\n",
    "        df = pd.read_csv(boxes_path)\n",
    "        temp = df[['xmin', 'ymin', 'xmax', 'ymax']].to_numpy()\n",
    "        temp2 = [label_mapping[obj] for obj in df['object'].tolist()]\n",
    "        boxes = {'boxes': t.from_numpy(temp), 'labels': t.tensor(temp2)}\n",
    "        del temp, temp2\n",
    "        gc.collect()\n",
    "        image = Image.open(image_path)\n",
    "        if image.mode != 'RGB':\n",
    "            image = image.convert('RGB')\n",
    "            \n",
    "        og_dims = torch.tensor([image.width, image.height, image.width, image.height])\n",
    "        image = F.resize(image, (self.theight, self.twidth))\n",
    "\n",
    "        scaled_boxes = (boxes['boxes'] / og_dims) * torch.tensor([self.twidth, self.theight, self.twidth, self.theight])\n",
    "        valid_boxes, valid_indices = self.validate_boxes(scaled_boxes)\n",
    "\n",
    "        image = F.to_tensor(image)\n",
    "        boxes['boxes'] = valid_boxes.to(torch.float64)\n",
    "        boxes['labels'] = torch.tensor([boxes['labels'][i] for i in valid_indices], dtype=torch.int64)\n",
    "        \n",
    "        del scaled_boxes\n",
    "        gc.collect()\n",
    "        return image, boxes\n",
    "\n",
    "    def validate_boxes(self, boxes):\n",
    "        widths = boxes[:, 2] - boxes[:, 0]\n",
    "        heights = boxes[:, 3] - boxes[:, 1]\n",
    "        valid_indices = (widths > 0) & (heights > 0)\n",
    "        return boxes[valid_indices], valid_indices.nonzero(as_tuple=True)[0]\n",
    "\n",
    "train_folder = f'/kaggle/working/train'\n",
    "test_folder = f'/kaggle/working/test'\n",
    "train_dataset = CircuitDataset(train_folder)\n",
    "print(\"CREATED TRAIN DATASET\")\n",
    "test_dataset = CircuitDataset(test_folder)\n",
    "print(\"CREATED TEST DATASET\")\n",
    "\n",
    "train_data_loader = DataLoader(train_dataset, batch_size = 6, shuffle = True, collate_fn = collate_fn, pin_memory = True)\n",
    "test_data_loader = DataLoader(test_dataset, batch_size = 6, shuffle = True, collate_fn = collate_fn, pin_memory = True)\n",
    "model = models.detection.fasterrcnn_resnet50_fpn_v2(pretrained=True)\n",
    "in_features = model.roi_heads.box_predictor.cls_score.in_features\n",
    "model.roi_heads.box_predictor = models.detection.faster_rcnn.FastRCNNPredictor(in_features, num_classes)\n",
    "\n",
    "criterion = nn.SmoothL1Loss()\n",
    "\n",
    "optimizer = optim.Adam(model.parameters(), lr=1e-5, amsgrad = True)\n",
    "if torch.cuda.is_available():\n",
    "    device = torch.device('cuda')\n",
    "    model.to(device)\n",
    "else:\n",
    "    device = torch.device('cpu')\n",
    "    model.to(device)"
   ]
  },
  {
   "cell_type": "code",
   "execution_count": 10,
   "id": "b132dcca",
   "metadata": {
    "execution": {
     "iopub.execute_input": "2024-05-05T06:47:11.881815Z",
     "iopub.status.busy": "2024-05-05T06:47:11.880981Z",
     "iopub.status.idle": "2024-05-05T06:47:11.888458Z",
     "shell.execute_reply": "2024-05-05T06:47:11.887576Z"
    },
    "papermill": {
     "duration": 0.090145,
     "end_time": "2024-05-05T06:47:11.890418",
     "exception": false,
     "start_time": "2024-05-05T06:47:11.800273",
     "status": "completed"
    },
    "tags": []
   },
   "outputs": [],
   "source": [
    "def print_gpu_memory():\n",
    "    if torch.cuda.is_available():\n",
    "        print(\"GPU Memory:\")\n",
    "        for i in range(torch.cuda.device_count()):\n",
    "            t = torch.cuda.get_device_properties(i).total_memory\n",
    "            r = torch.cuda.memory_reserved(i)\n",
    "            a = torch.cuda.memory_allocated(i)\n",
    "            f = r-a \n",
    "            print(f\"  GPU {i}: Total = {t/(1024**3):.2f} GB, Reserved = {r/(1024**3):.2f} GB, Allocated = {a/(1024**3):.2f} GB, Free (within reserved) = {f/(1024**3):.2f} GB\")\n",
    "    else:\n",
    "        print(\"No CUDA-capable device is detected\")\n",
    "\n",
    "\n",
    "def print_system_memory():\n",
    "    memory = psutil.virtual_memory()\n",
    "    total = memory.total / (1024**3)\n",
    "    available = memory.available / (1024**3)\n",
    "    print(f\"System Memory: Total = {total:.2f} GB, Available = {available:.2f} GB\")"
   ]
  },
  {
   "cell_type": "code",
   "execution_count": 11,
   "id": "c7dba209",
   "metadata": {
    "execution": {
     "iopub.execute_input": "2024-05-05T06:47:12.050509Z",
     "iopub.status.busy": "2024-05-05T06:47:12.049654Z",
     "iopub.status.idle": "2024-05-05T17:24:44.335869Z",
     "shell.execute_reply": "2024-05-05T17:24:44.334844Z"
    },
    "papermill": {
     "duration": 38252.383776,
     "end_time": "2024-05-05T17:24:44.353719",
     "exception": false,
     "start_time": "2024-05-05T06:47:11.969943",
     "status": "completed"
    },
    "tags": []
   },
   "outputs": [
    {
     "name": "stdout",
     "output_type": "stream",
     "text": [
      "TRAINING MODEL\n",
      "GPU Memory:\n",
      "  GPU 0: Total = 15.89 GB, Reserved = 3.42 GB, Allocated = 0.84 GB, Free (within reserved) = 2.58 GB\n",
      "System Memory: Total = 31.36 GB, Available = 29.03 GB\n",
      "Epoch [1/25], Loss: 2.4225558538792895\n",
      "GPU Memory:\n",
      "  GPU 0: Total = 15.89 GB, Reserved = 3.45 GB, Allocated = 0.85 GB, Free (within reserved) = 2.60 GB\n",
      "System Memory: Total = 31.36 GB, Available = 28.99 GB\n",
      "Epoch [2/25], Loss: 1.4264000684936897\n",
      "GPU Memory:\n",
      "  GPU 0: Total = 15.89 GB, Reserved = 3.13 GB, Allocated = 0.85 GB, Free (within reserved) = 2.29 GB\n",
      "System Memory: Total = 31.36 GB, Available = 29.00 GB\n",
      "Epoch [3/25], Loss: 1.235940048644647\n",
      "GPU Memory:\n",
      "  GPU 0: Total = 15.89 GB, Reserved = 2.65 GB, Allocated = 0.85 GB, Free (within reserved) = 1.80 GB\n",
      "System Memory: Total = 31.36 GB, Available = 29.03 GB\n",
      "Epoch [4/25], Loss: 1.137596041943362\n",
      "GPU Memory:\n",
      "  GPU 0: Total = 15.89 GB, Reserved = 2.71 GB, Allocated = 0.85 GB, Free (within reserved) = 1.86 GB\n",
      "System Memory: Total = 31.36 GB, Available = 29.03 GB\n",
      "Epoch [5/25], Loss: 1.0630677419297974\n",
      "GPU Memory:\n",
      "  GPU 0: Total = 15.89 GB, Reserved = 2.97 GB, Allocated = 0.85 GB, Free (within reserved) = 2.12 GB\n",
      "System Memory: Total = 31.36 GB, Available = 29.05 GB\n",
      "Epoch [6/25], Loss: 1.0097750070556015\n",
      "GPU Memory:\n",
      "  GPU 0: Total = 15.89 GB, Reserved = 3.25 GB, Allocated = 0.85 GB, Free (within reserved) = 2.40 GB\n",
      "System Memory: Total = 31.36 GB, Available = 29.05 GB\n",
      "Epoch [7/25], Loss: 0.9686990894548525\n",
      "GPU Memory:\n",
      "  GPU 0: Total = 15.89 GB, Reserved = 3.07 GB, Allocated = 0.84 GB, Free (within reserved) = 2.23 GB\n",
      "System Memory: Total = 31.36 GB, Available = 29.05 GB\n",
      "Epoch [8/25], Loss: 0.9331336296772165\n",
      "GPU Memory:\n",
      "  GPU 0: Total = 15.89 GB, Reserved = 2.86 GB, Allocated = 0.85 GB, Free (within reserved) = 2.02 GB\n",
      "System Memory: Total = 31.36 GB, Available = 29.06 GB\n",
      "Epoch [9/25], Loss: 0.9042079436508447\n",
      "GPU Memory:\n",
      "  GPU 0: Total = 15.89 GB, Reserved = 2.78 GB, Allocated = 0.84 GB, Free (within reserved) = 1.94 GB\n",
      "System Memory: Total = 31.36 GB, Available = 29.04 GB\n",
      "Epoch [10/25], Loss: 0.8767011699482536\n",
      "GPU Memory:\n",
      "  GPU 0: Total = 15.89 GB, Reserved = 2.73 GB, Allocated = 0.84 GB, Free (within reserved) = 1.89 GB\n",
      "System Memory: Total = 31.36 GB, Available = 29.04 GB\n",
      "Epoch [11/25], Loss: 0.8533096593289297\n",
      "GPU Memory:\n",
      "  GPU 0: Total = 15.89 GB, Reserved = 2.57 GB, Allocated = 0.85 GB, Free (within reserved) = 1.73 GB\n",
      "System Memory: Total = 31.36 GB, Available = 29.01 GB\n",
      "Epoch [12/25], Loss: 0.8281997135937558\n",
      "GPU Memory:\n",
      "  GPU 0: Total = 15.89 GB, Reserved = 3.03 GB, Allocated = 0.84 GB, Free (within reserved) = 2.19 GB\n",
      "System Memory: Total = 31.36 GB, Available = 29.03 GB\n",
      "Epoch [13/25], Loss: 0.8079736292532425\n",
      "GPU Memory:\n",
      "  GPU 0: Total = 15.89 GB, Reserved = 3.30 GB, Allocated = 0.84 GB, Free (within reserved) = 2.46 GB\n",
      "System Memory: Total = 31.36 GB, Available = 28.96 GB\n",
      "Epoch [14/25], Loss: 0.7864538027686094\n",
      "GPU Memory:\n",
      "  GPU 0: Total = 15.89 GB, Reserved = 2.96 GB, Allocated = 0.84 GB, Free (within reserved) = 2.11 GB\n",
      "System Memory: Total = 31.36 GB, Available = 29.03 GB\n",
      "Epoch [15/25], Loss: 0.7761719408695079\n",
      "GPU Memory:\n",
      "  GPU 0: Total = 15.89 GB, Reserved = 2.98 GB, Allocated = 0.84 GB, Free (within reserved) = 2.13 GB\n",
      "System Memory: Total = 31.36 GB, Available = 29.04 GB\n",
      "Epoch [16/25], Loss: 0.7572373713012834\n",
      "GPU Memory:\n",
      "  GPU 0: Total = 15.89 GB, Reserved = 3.04 GB, Allocated = 0.84 GB, Free (within reserved) = 2.20 GB\n",
      "System Memory: Total = 31.36 GB, Available = 29.03 GB\n",
      "Epoch [17/25], Loss: 0.7404739502469736\n",
      "GPU Memory:\n",
      "  GPU 0: Total = 15.89 GB, Reserved = 3.19 GB, Allocated = 0.84 GB, Free (within reserved) = 2.35 GB\n",
      "System Memory: Total = 31.36 GB, Available = 29.04 GB\n",
      "Epoch [18/25], Loss: 0.7315679831363059\n",
      "GPU Memory:\n",
      "  GPU 0: Total = 15.89 GB, Reserved = 2.84 GB, Allocated = 0.84 GB, Free (within reserved) = 2.00 GB\n",
      "System Memory: Total = 31.36 GB, Available = 29.07 GB\n",
      "Epoch [19/25], Loss: 0.7172352644998838\n",
      "GPU Memory:\n",
      "  GPU 0: Total = 15.89 GB, Reserved = 2.95 GB, Allocated = 0.85 GB, Free (within reserved) = 2.10 GB\n",
      "System Memory: Total = 31.36 GB, Available = 29.03 GB\n",
      "Epoch [20/25], Loss: 0.6993630807707818\n",
      "GPU Memory:\n",
      "  GPU 0: Total = 15.89 GB, Reserved = 2.71 GB, Allocated = 0.85 GB, Free (within reserved) = 1.87 GB\n",
      "System Memory: Total = 31.36 GB, Available = 29.08 GB\n",
      "Epoch [21/25], Loss: 0.6912667929113921\n",
      "GPU Memory:\n",
      "  GPU 0: Total = 15.89 GB, Reserved = 3.54 GB, Allocated = 0.85 GB, Free (within reserved) = 2.69 GB\n",
      "System Memory: Total = 31.36 GB, Available = 29.04 GB\n",
      "Epoch [22/25], Loss: 0.6810754118356014\n",
      "GPU Memory:\n",
      "  GPU 0: Total = 15.89 GB, Reserved = 2.62 GB, Allocated = 0.85 GB, Free (within reserved) = 1.77 GB\n",
      "System Memory: Total = 31.36 GB, Available = 29.03 GB\n",
      "Epoch [23/25], Loss: 0.6698354416449629\n",
      "GPU Memory:\n",
      "  GPU 0: Total = 15.89 GB, Reserved = 2.80 GB, Allocated = 0.84 GB, Free (within reserved) = 1.96 GB\n",
      "System Memory: Total = 31.36 GB, Available = 29.03 GB\n",
      "Epoch [24/25], Loss: 0.6615410322523487\n",
      "GPU Memory:\n",
      "  GPU 0: Total = 15.89 GB, Reserved = 3.30 GB, Allocated = 0.84 GB, Free (within reserved) = 2.45 GB\n",
      "System Memory: Total = 31.36 GB, Available = 29.04 GB\n",
      "Epoch [25/25], Loss: 0.6518829731609546\n",
      "MODEL TRAINED\n"
     ]
    }
   ],
   "source": [
    "print(\"TRAINING MODEL\")\n",
    "num_epochs = 25\n",
    "model.train()\n",
    "for epoch in range(num_epochs):\n",
    "    running_loss = None\n",
    "    for images, targets in train_data_loader:\n",
    "        images = images.to(device)\n",
    "        targets = [{k: v.to(device) for k, v in t.items()} for t in targets]\n",
    "        optimizer.zero_grad()\n",
    "        loss_dict = model(images, targets)\n",
    "        losses = sum(loss for loss in loss_dict.values())\n",
    "        losses.sum().backward()\n",
    "        optimizer.step()\n",
    "        if running_loss is None:\n",
    "            running_loss = losses.sum().cpu().detach().numpy()\n",
    "        else: \n",
    "            running_loss += losses.sum().cpu().detach().numpy()\n",
    "        del losses, loss_dict, images, targets\n",
    "        torch.cuda.empty_cache() ##This is to make sure it does not crash\n",
    "        gc.collect()\n",
    "    print_gpu_memory()\n",
    "    print_system_memory()\n",
    "    print(f'Epoch [{epoch+1}/{num_epochs}], Loss: {running_loss/len(train_data_loader)}')\n",
    "print(\"MODEL TRAINED\")\n",
    "    \n",
    "torch.save(model.state_dict(), 'faster_rcnn_model.pth')"
   ]
  },
  {
   "cell_type": "code",
   "execution_count": 12,
   "id": "df15f4f1",
   "metadata": {
    "execution": {
     "iopub.execute_input": "2024-05-05T17:24:44.517091Z",
     "iopub.status.busy": "2024-05-05T17:24:44.516335Z",
     "iopub.status.idle": "2024-05-05T17:24:44.521119Z",
     "shell.execute_reply": "2024-05-05T17:24:44.520298Z"
    },
    "papermill": {
     "duration": 0.088925,
     "end_time": "2024-05-05T17:24:44.523427",
     "exception": false,
     "start_time": "2024-05-05T17:24:44.434502",
     "status": "completed"
    },
    "tags": []
   },
   "outputs": [
    {
     "name": "stdout",
     "output_type": "stream",
     "text": [
      "SAVED MODEL\n"
     ]
    }
   ],
   "source": [
    "print(\"SAVED MODEL\")"
   ]
  },
  {
   "cell_type": "code",
   "execution_count": 13,
   "id": "62629378",
   "metadata": {
    "execution": {
     "iopub.execute_input": "2024-05-05T17:24:44.685339Z",
     "iopub.status.busy": "2024-05-05T17:24:44.685049Z",
     "iopub.status.idle": "2024-05-05T17:25:25.763295Z",
     "shell.execute_reply": "2024-05-05T17:25:25.762310Z"
    },
    "papermill": {
     "duration": 41.243355,
     "end_time": "2024-05-05T17:25:25.847288",
     "exception": false,
     "start_time": "2024-05-05T17:24:44.603933",
     "status": "completed"
    },
    "tags": []
   },
   "outputs": [
    {
     "name": "stdout",
     "output_type": "stream",
     "text": [
      "EVALUATING MODEL ON CLASSES\n",
      "PREDICTION COMPLETED, STARTING EVALUATION\n"
     ]
    }
   ],
   "source": [
    "print(\"EVALUATING MODEL ON CLASSES\")\n",
    "model.eval()\n",
    "all_predictions = []\n",
    "all_targets = []\n",
    "with torch.no_grad():\n",
    "    for images, targets in test_data_loader:\n",
    "        images = [image.to(device) for image in images]\n",
    "        targets = [{k: v.to(device) for k, v in t.items()} for t in targets]\n",
    "        predictions = model(images)\n",
    "        all_predictions.extend(predictions)\n",
    "        all_targets.extend(targets)\n",
    "print(\"PREDICTION COMPLETED, STARTING EVALUATION\")"
   ]
  },
  {
   "cell_type": "code",
   "execution_count": 14,
   "id": "cb42e9d8",
   "metadata": {
    "execution": {
     "iopub.execute_input": "2024-05-05T17:25:26.010388Z",
     "iopub.status.busy": "2024-05-05T17:25:26.009948Z",
     "iopub.status.idle": "2024-05-05T17:25:27.197845Z",
     "shell.execute_reply": "2024-05-05T17:25:27.196852Z"
    },
    "papermill": {
     "duration": 1.272195,
     "end_time": "2024-05-05T17:25:27.199924",
     "exception": false,
     "start_time": "2024-05-05T17:25:25.927729",
     "status": "completed"
    },
    "tags": []
   },
   "outputs": [
    {
     "name": "stdout",
     "output_type": "stream",
     "text": [
      "BEGIN EVALUATION\n",
      "EVALUATION COMPLETED\n",
      "{'diode': {'precision': 0.176, 'recall': 0.9166666666666666, 'f1_score': 0.29530201342281875, 'avg_iou': 0.829614069371218}, 'transistor.bjt': {'precision': 0.7664233576642335, 'recall': 0.9375, 'f1_score': 0.8433734939759037, 'avg_iou': 0.8611452188929767}, 'integrated_circuit': {'precision': 0.057971014492753624, 'recall': 1.0, 'f1_score': 0.1095890410958904, 'avg_iou': 0.9132800909279923}, 'resistor': {'precision': 0.534375, 'recall': 0.7633928571428571, 'f1_score': 0.6286764705882354, 'avg_iou': 0.8803568173500972}, 'capacitor.polarized': {'precision': 0.25396825396825395, 'recall': 1.0, 'f1_score': 0.4050632911392405, 'avg_iou': 0.8669846265382553}, 'crossover': {'precision': 0.7609561752988048, 'recall': 0.09138755980861243, 'f1_score': 0.16317812900469883, 'avg_iou': 0.7098730808134104}, 'switch': {'precision': 0.4583333333333333, 'recall': 0.5729166666666666, 'f1_score': 0.5092592592592592, 'avg_iou': 0.7094274082045323}, 'terminal': {'precision': 0.38943894389438943, 'recall': 0.3862520458265139, 'f1_score': 0.38783894823336074, 'avg_iou': 0.7617138503948387}, 'nand': {'precision': 0.147239263803681, 'recall': 1.0, 'f1_score': 0.25668449197860965, 'avg_iou': 0.8798422909853342}, 'xor': {'precision': 0.44021739130434784, 'recall': 0.84375, 'f1_score': 0.5785714285714286, 'avg_iou': 0.8602922657052222}, 'vss': {'precision': 0.46875, 'recall': 0.9375, 'f1_score': 0.625, 'avg_iou': 0.8805463518901209}, 'diode.zener': {'precision': 0.18032786885245902, 'recall': 0.4583333333333333, 'f1_score': 0.2588235294117647, 'avg_iou': 0.8189674060396637}, 'transistor.fet': {'precision': 0.15, 'recall': 0.75, 'f1_score': 0.24999999999999997, 'avg_iou': 0.9003285416114376}, 'and': {'precision': 0.5138461538461538, 'recall': 0.5964285714285714, 'f1_score': 0.5520661157024793, 'avg_iou': 0.8997642454276669}, 'text': {'precision': 0.6958762886597938, 'recall': 0.6915196357427433, 'f1_score': 0.6936911218955182, 'avg_iou': 0.8560230050764862}, 'capacitor.unpolarized': {'precision': 0.3835616438356164, 'recall': 0.35, 'f1_score': 0.3660130718954248, 'avg_iou': 0.8640730078411852}, 'gnd': {'precision': 0.2975206611570248, 'recall': 0.75, 'f1_score': 0.42603550295857995, 'avg_iou': 0.8805451719376474}, 'diode.light_emitting': {'precision': 0.08888888888888889, 'recall': 0.16666666666666666, 'f1_score': 0.11594202898550726, 'avg_iou': 0.6873038912223997}, 'voltage.dc': {'precision': 0.15384615384615385, 'recall': 1.0, 'f1_score': 0.2666666666666667, 'avg_iou': 0.8979136132712292}, 'resistor.adjustable': {'precision': 0.18181818181818182, 'recall': 0.5, 'f1_score': 0.26666666666666666, 'avg_iou': 0.6470266762049526}, 'not': {'precision': 0.75, 'recall': 0.1875, 'f1_score': 0.3, 'avg_iou': 0.8604970317557731}, 'lamp': {'precision': 0.21621621621621623, 'recall': 1.0, 'f1_score': 0.35555555555555557, 'avg_iou': 0.8698010545582227}, 'junction': {'precision': 0.8470636215334421, 'recall': 0.5890527509926262, 'f1_score': 0.6948812311809969, 'avg_iou': 0.7531138597333212}, 'or': {'precision': 0.5658914728682171, 'recall': 0.48026315789473684, 'f1_score': 0.5195729537366548, 'avg_iou': 0.8699691623239232}, 'inductor': {'precision': 0.30952380952380953, 'recall': 0.40625, 'f1_score': 0.3513513513513513, 'avg_iou': 0.8583781393468807}, 'motor': {'precision': 0.75, 'recall': 1.0, 'f1_score': 0.8571428571428571, 'avg_iou': 0.7292491477291042}}\n"
     ]
    }
   ],
   "source": [
    "def evaluate_model(all_predictions, all_targets, label_mapping, iou_threshold=0.5):\n",
    "    index_to_class = {v: k for k, v in label_mapping.items()}\n",
    "    class_metrics = {index_to_class[i]: {'TP': 0, 'FP': 0, 'FN': 0, 'Avg_IoU': 0, 'Total_IoU': 0, 'Matched_IoU_Count': 0} for i in label_mapping.values()}\n",
    "\n",
    "    for predictions, targets in zip(all_predictions, all_targets):\n",
    "        pred_boxes = torch.tensor(predictions['boxes']).to(device)\n",
    "        pred_labels = torch.tensor(predictions['labels']).to(device)\n",
    "        target_boxes = torch.tensor(targets['boxes']).to(device)\n",
    "        target_labels = torch.tensor(targets['labels']).to(device)\n",
    "\n",
    "        for cls_index, cls_name in index_to_class.items():\n",
    "            cls_pred_boxes = pred_boxes[pred_labels == cls_index]\n",
    "            cls_target_boxes = target_boxes[target_labels == cls_index]\n",
    "\n",
    "            if len(cls_pred_boxes) == 0 and len(cls_target_boxes) == 0:\n",
    "                continue\n",
    "            if len(cls_pred_boxes) == 0:\n",
    "                class_metrics[cls_name]['FN'] += len(cls_target_boxes)\n",
    "                continue\n",
    "            if len(cls_target_boxes) == 0:\n",
    "                class_metrics[cls_name]['FP'] += len(cls_pred_boxes)\n",
    "                continue\n",
    "\n",
    "            iou_matrix = box_iou(cls_pred_boxes, cls_target_boxes)\n",
    "            iou_max, iou_max_idx = iou_matrix.max(dim=1)\n",
    "            matched_preds = iou_max >= iou_threshold\n",
    "\n",
    "            class_metrics[cls_name]['Total_IoU'] += iou_max[matched_preds].sum().item()\n",
    "            class_metrics[cls_name]['Matched_IoU_Count'] += matched_preds.sum().item()\n",
    "\n",
    "            class_metrics[cls_name]['TP'] += matched_preds.sum().item()\n",
    "            class_metrics[cls_name]['FP'] += (~matched_preds).sum().item()\n",
    "            class_metrics[cls_name]['FN'] += len(cls_target_boxes) - matched_preds.sum().item()\n",
    "\n",
    "    classwise_results = {}\n",
    "    for cls_name, metrics in class_metrics.items():\n",
    "        precision = metrics['TP'] / (metrics['TP'] + metrics['FP']) if (metrics['TP'] + metrics['FP']) > 0 else 0\n",
    "        recall = metrics['TP'] / (metrics['TP'] + metrics['FN']) if (metrics['TP'] + metrics['FN']) > 0 else 0\n",
    "        f1_score = 2 * (precision * recall) / (precision + recall) if (precision + recall) > 0 else 0\n",
    "        avg_iou = (metrics['Total_IoU'] / metrics['Matched_IoU_Count']) if metrics['Matched_IoU_Count'] > 0 else 0\n",
    "\n",
    "        if precision > 0 or recall > 0 or f1_score > 0 or avg_iou > 0:\n",
    "            classwise_results[cls_name] = {\n",
    "                \"precision\": precision,\n",
    "                \"recall\": recall,\n",
    "                \"f1_score\": f1_score,\n",
    "                \"avg_iou\": avg_iou\n",
    "            }\n",
    "\n",
    "    df = pd.DataFrame.from_dict(classwise_results, orient='index')\n",
    "    df.to_csv(\"class_metrics.csv\")\n",
    "    return classwise_results\n",
    "print(\"BEGIN EVALUATION\")\n",
    "results = evaluate_model(all_predictions, all_targets, label_mapping)\n",
    "print(\"EVALUATION COMPLETED\")\n",
    "print(results)"
   ]
  },
  {
   "cell_type": "code",
   "execution_count": 15,
   "id": "0a1eea3c",
   "metadata": {
    "execution": {
     "iopub.execute_input": "2024-05-05T17:25:27.367995Z",
     "iopub.status.busy": "2024-05-05T17:25:27.367204Z",
     "iopub.status.idle": "2024-05-05T17:25:28.270516Z",
     "shell.execute_reply": "2024-05-05T17:25:28.269582Z"
    },
    "papermill": {
     "duration": 0.989624,
     "end_time": "2024-05-05T17:25:28.272869",
     "exception": false,
     "start_time": "2024-05-05T17:25:27.283245",
     "status": "completed"
    },
    "tags": []
   },
   "outputs": [
    {
     "name": "stdout",
     "output_type": "stream",
     "text": [
      "NOTEBOOK FINISHED\n"
     ]
    }
   ],
   "source": [
    "shutil.rmtree('dataset')\n",
    "shutil.rmtree('train')\n",
    "shutil.rmtree('test')\n",
    "print(\"NOTEBOOK FINISHED\")"
   ]
  }
 ],
 "metadata": {
  "kaggle": {
   "accelerator": "gpu",
   "dataSources": [
    {
     "datasetId": 2027239,
     "sourceId": 7512721,
     "sourceType": "datasetVersion"
    }
   ],
   "dockerImageVersionId": 30683,
   "isGpuEnabled": true,
   "isInternetEnabled": true,
   "language": "python",
   "sourceType": "notebook"
  },
  "kernelspec": {
   "display_name": "Python 3",
   "language": "python",
   "name": "python3"
  },
  "language_info": {
   "codemirror_mode": {
    "name": "ipython",
    "version": 3
   },
   "file_extension": ".py",
   "mimetype": "text/x-python",
   "name": "python",
   "nbconvert_exporter": "python",
   "pygments_lexer": "ipython3",
   "version": "3.10.13"
  },
  "papermill": {
   "default_parameters": {},
   "duration": 38617.981263,
   "end_time": "2024-05-05T17:25:30.829877",
   "environment_variables": {},
   "exception": null,
   "input_path": "__notebook__.ipynb",
   "output_path": "__notebook__.ipynb",
   "parameters": {},
   "start_time": "2024-05-05T06:41:52.848614",
   "version": "2.5.0"
  }
 },
 "nbformat": 4,
 "nbformat_minor": 5
}
