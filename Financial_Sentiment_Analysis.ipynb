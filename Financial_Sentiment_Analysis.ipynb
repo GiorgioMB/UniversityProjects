{
  "nbformat": 4,
  "nbformat_minor": 0,
  "metadata": {
    "colab": {
      "provenance": [],
      "gpuType": "T4",
      "mount_file_id": "1C7GBUKUWlC_2Q7QrGhxyUx7xIt-Aeues",
      "authorship_tag": "ABX9TyMJ/rFB+bHxdAZgc+uaCvo0",
      "include_colab_link": true
    },
    "kernelspec": {
      "name": "python3",
      "display_name": "Python 3"
    },
    "language_info": {
      "name": "python"
    },
    "accelerator": "GPU"
  },
  "cells": [
    {
      "cell_type": "markdown",
      "metadata": {
        "id": "view-in-github",
        "colab_type": "text"
      },
      "source": [
        "<a href=\"https://colab.research.google.com/github/GiorgioMB/UniversityProjects/blob/BERT-Project/Financial_Sentiment_Analysis.ipynb\" target=\"_parent\"><img src=\"https://colab.research.google.com/assets/colab-badge.svg\" alt=\"Open In Colab\"/></a>"
      ]
    },
    {
      "cell_type": "markdown",
      "source": [
        "The scope of this model is to analyse the sentiment of financial headlines, tweets, or single phrases"
      ],
      "metadata": {
        "id": "reTk3J-aWnjO"
      }
    },
    {
      "cell_type": "markdown",
      "source": [
        "To make the following model work, please download the pretrained model.zip here: https://drive.google.com/uc?export=download&id=1xXjXfsOpMYkDVb4_XccRMgxu5eqSvNkh\n",
        "\n",
        "For unknown reasons, the following doesn't work on Safari"
      ],
      "metadata": {
        "id": "IzH2U9yPS_Vv"
      }
    },
    {
      "cell_type": "code",
      "source": [
        "!pip install transformers\n",
        "!pip install torch torchvision torchaudio\n",
        "!pip install requests\n",
        "!pip install selenium\n",
        "!pip install --upgrade google-colab\n",
        "!pip install numpy"
      ],
      "metadata": {
        "id": "NoGT6PLa11oL"
      },
      "execution_count": null,
      "outputs": []
    },
    {
      "cell_type": "markdown",
      "source": [
        "When prompted, please locate and select the downloaded zip file"
      ],
      "metadata": {
        "id": "OLRQyCf6WdvX"
      }
    },
    {
      "cell_type": "code",
      "source": [
        "from google.colab import files\n",
        "import zipfile\n",
        "import io\n",
        "\n",
        "\n",
        "uploaded = files.upload()\n",
        "\n",
        "\n",
        "uploaded_file_name = list(uploaded.keys())[0]\n",
        "extraction_path = 'extracted_model/'\n",
        "with zipfile.ZipFile(uploaded_file_name, 'r') as zip_ref:\n",
        "    zip_ref.extractall(extraction_path)\n",
        "\n",
        "print(\"File uploaded and extracted successfully.\")\n"
      ],
      "metadata": {
        "id": "Slg4CDfbN4TZ"
      },
      "execution_count": null,
      "outputs": []
    },
    {
      "cell_type": "code",
      "source": [
        "from transformers import AutoTokenizer, AutoModelForSequenceClassification\n",
        "import torch\n",
        "import numpy as np\n",
        "model_folder_path = 'extracted_model/models'\n",
        "\n",
        "tokenizer = AutoTokenizer.from_pretrained(model_folder_path)\n",
        "model = AutoModelForSequenceClassification.from_pretrained(model_folder_path)\n",
        "device = torch.device(\"cuda\" if torch.cuda.is_available() else \"cpu\")\n",
        "model.to(device)\n",
        "\n",
        "sentiment_labels = ['Negative', 'Positive', 'Neutral']\n"
      ],
      "metadata": {
        "id": "VM0ZGSAEIlDK"
      },
      "execution_count": null,
      "outputs": []
    },
    {
      "cell_type": "markdown",
      "source": [
        "# Relevant section"
      ],
      "metadata": {
        "id": "RfTSyNpmIvQC"
      }
    },
    {
      "cell_type": "code",
      "execution_count": null,
      "metadata": {
        "id": "7iy1V2sN1myp"
      },
      "outputs": [],
      "source": [
        "while True:\n",
        "    user_input = input(\"Enter text for sentiment analysis (or type 'exit' to quit): \")\n",
        "    if user_input.lower() == 'exit':\n",
        "        break\n",
        "\n",
        "    tokenized_input = tokenizer(user_input, padding=True, truncation=True, return_tensors='pt')\n",
        "    input_ids = tokenized_input['input_ids'].to(device)\n",
        "    attention_mask = tokenized_input['attention_mask'].to(device)\n",
        "\n",
        "    with torch.no_grad():\n",
        "        model.eval()\n",
        "        outputs = model(input_ids, attention_mask=attention_mask)\n",
        "        predicted_probabilities = torch.nn.functional.softmax(outputs.logits, dim=-1)\n",
        "        predicted_label = predicted_probabilities.argmax(dim=-1).item()\n",
        "        confidence_score = predicted_probabilities[0][predicted_label].item()\n",
        "\n",
        "        predicted_sentiment = sentiment_labels[predicted_label]\n",
        "        print(f\"Predicted Sentiment: {predicted_sentiment}\")\n",
        "        print(f\"Confidence Score: {confidence_score:.4f}\")\n"
      ]
    }
  ]
}