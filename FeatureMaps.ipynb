{
  "nbformat": 4,
  "nbformat_minor": 0,
  "metadata": {
    "colab": {
      "provenance": [],
      "gpuType": "V100",
      "authorship_tag": "ABX9TyOlBvVN2PuukJSbQn4HNDY1",
      "include_colab_link": true
    },
    "kernelspec": {
      "name": "python3",
      "display_name": "Python 3"
    },
    "language_info": {
      "name": "python"
    },
    "accelerator": "GPU"
  },
  "cells": [
    {
      "cell_type": "markdown",
      "metadata": {
        "id": "view-in-github",
        "colab_type": "text"
      },
      "source": [
        "<a href=\"https://colab.research.google.com/github/GiorgioMB/UniversityProjects/blob/main/FeatureMaps.ipynb\" target=\"_parent\"><img src=\"https://colab.research.google.com/assets/colab-badge.svg\" alt=\"Open In Colab\"/></a>"
      ]
    },
    {
      "cell_type": "code",
      "source": [
        "from tensorflow.keras.models import Model\n",
        "import tensorflow as tf\n",
        "import numpy as np\n",
        "import os\n",
        "from tensorflow.keras import layers\n",
        "from sklearn.model_selection import train_test_split\n",
        "from kaggle.api.kaggle_api_extended import KaggleApi\n",
        "from tensorflow.keras.layers import Rescaling, Conv2D, MaxPooling2D, Flatten, Dense, BatchNormalization, Rescaling\n",
        "from tensorflow.keras.layers import Dropout\n",
        "from tensorflow.keras import Sequential\n",
        "from tensorflow.keras.utils import image_dataset_from_directory\n",
        "from sklearn.metrics import log_loss\n",
        "from sklearn.metrics import confusion_matrix,f1_score, recall_score, precision_score, accuracy_score\n",
        "import matplotlib.pyplot as plt\n",
        "import seaborn as sns\n",
        "from tensorflow.keras.layers.experimental.preprocessing import RandomFlip, RandomRotation, RandomZoom"
      ],
      "metadata": {
        "id": "LrNfznrgSCHZ"
      },
      "execution_count": 3,
      "outputs": []
    },
    {
      "cell_type": "code",
      "source": [
        "! pip install -q kaggle\n",
        "from google.colab import files\n",
        "files.upload()\n",
        "! cp kaggle.json ~/.kaggle/\n",
        "! chmod 600 ~/.kaggle/kaggle.json"
      ],
      "metadata": {
        "id": "uSUUrPyESk93",
        "colab": {
          "base_uri": "https://localhost:8080/",
          "height": 69
        },
        "outputId": "311f7528-aed6-4232-9da4-403848e0a50e"
      },
      "execution_count": 2,
      "outputs": [
        {
          "output_type": "display_data",
          "data": {
            "text/plain": [
              "<IPython.core.display.HTML object>"
            ],
            "text/html": [
              "\n",
              "     <input type=\"file\" id=\"files-71749451-63d4-471d-8d0b-12b425d83984\" name=\"files[]\" multiple disabled\n",
              "        style=\"border:none\" />\n",
              "     <output id=\"result-71749451-63d4-471d-8d0b-12b425d83984\">\n",
              "      Upload widget is only available when the cell has been executed in the\n",
              "      current browser session. Please rerun this cell to enable.\n",
              "      </output>\n",
              "      <script>// Copyright 2017 Google LLC\n",
              "//\n",
              "// Licensed under the Apache License, Version 2.0 (the \"License\");\n",
              "// you may not use this file except in compliance with the License.\n",
              "// You may obtain a copy of the License at\n",
              "//\n",
              "//      http://www.apache.org/licenses/LICENSE-2.0\n",
              "//\n",
              "// Unless required by applicable law or agreed to in writing, software\n",
              "// distributed under the License is distributed on an \"AS IS\" BASIS,\n",
              "// WITHOUT WARRANTIES OR CONDITIONS OF ANY KIND, either express or implied.\n",
              "// See the License for the specific language governing permissions and\n",
              "// limitations under the License.\n",
              "\n",
              "/**\n",
              " * @fileoverview Helpers for google.colab Python module.\n",
              " */\n",
              "(function(scope) {\n",
              "function span(text, styleAttributes = {}) {\n",
              "  const element = document.createElement('span');\n",
              "  element.textContent = text;\n",
              "  for (const key of Object.keys(styleAttributes)) {\n",
              "    element.style[key] = styleAttributes[key];\n",
              "  }\n",
              "  return element;\n",
              "}\n",
              "\n",
              "// Max number of bytes which will be uploaded at a time.\n",
              "const MAX_PAYLOAD_SIZE = 100 * 1024;\n",
              "\n",
              "function _uploadFiles(inputId, outputId) {\n",
              "  const steps = uploadFilesStep(inputId, outputId);\n",
              "  const outputElement = document.getElementById(outputId);\n",
              "  // Cache steps on the outputElement to make it available for the next call\n",
              "  // to uploadFilesContinue from Python.\n",
              "  outputElement.steps = steps;\n",
              "\n",
              "  return _uploadFilesContinue(outputId);\n",
              "}\n",
              "\n",
              "// This is roughly an async generator (not supported in the browser yet),\n",
              "// where there are multiple asynchronous steps and the Python side is going\n",
              "// to poll for completion of each step.\n",
              "// This uses a Promise to block the python side on completion of each step,\n",
              "// then passes the result of the previous step as the input to the next step.\n",
              "function _uploadFilesContinue(outputId) {\n",
              "  const outputElement = document.getElementById(outputId);\n",
              "  const steps = outputElement.steps;\n",
              "\n",
              "  const next = steps.next(outputElement.lastPromiseValue);\n",
              "  return Promise.resolve(next.value.promise).then((value) => {\n",
              "    // Cache the last promise value to make it available to the next\n",
              "    // step of the generator.\n",
              "    outputElement.lastPromiseValue = value;\n",
              "    return next.value.response;\n",
              "  });\n",
              "}\n",
              "\n",
              "/**\n",
              " * Generator function which is called between each async step of the upload\n",
              " * process.\n",
              " * @param {string} inputId Element ID of the input file picker element.\n",
              " * @param {string} outputId Element ID of the output display.\n",
              " * @return {!Iterable<!Object>} Iterable of next steps.\n",
              " */\n",
              "function* uploadFilesStep(inputId, outputId) {\n",
              "  const inputElement = document.getElementById(inputId);\n",
              "  inputElement.disabled = false;\n",
              "\n",
              "  const outputElement = document.getElementById(outputId);\n",
              "  outputElement.innerHTML = '';\n",
              "\n",
              "  const pickedPromise = new Promise((resolve) => {\n",
              "    inputElement.addEventListener('change', (e) => {\n",
              "      resolve(e.target.files);\n",
              "    });\n",
              "  });\n",
              "\n",
              "  const cancel = document.createElement('button');\n",
              "  inputElement.parentElement.appendChild(cancel);\n",
              "  cancel.textContent = 'Cancel upload';\n",
              "  const cancelPromise = new Promise((resolve) => {\n",
              "    cancel.onclick = () => {\n",
              "      resolve(null);\n",
              "    };\n",
              "  });\n",
              "\n",
              "  // Wait for the user to pick the files.\n",
              "  const files = yield {\n",
              "    promise: Promise.race([pickedPromise, cancelPromise]),\n",
              "    response: {\n",
              "      action: 'starting',\n",
              "    }\n",
              "  };\n",
              "\n",
              "  cancel.remove();\n",
              "\n",
              "  // Disable the input element since further picks are not allowed.\n",
              "  inputElement.disabled = true;\n",
              "\n",
              "  if (!files) {\n",
              "    return {\n",
              "      response: {\n",
              "        action: 'complete',\n",
              "      }\n",
              "    };\n",
              "  }\n",
              "\n",
              "  for (const file of files) {\n",
              "    const li = document.createElement('li');\n",
              "    li.append(span(file.name, {fontWeight: 'bold'}));\n",
              "    li.append(span(\n",
              "        `(${file.type || 'n/a'}) - ${file.size} bytes, ` +\n",
              "        `last modified: ${\n",
              "            file.lastModifiedDate ? file.lastModifiedDate.toLocaleDateString() :\n",
              "                                    'n/a'} - `));\n",
              "    const percent = span('0% done');\n",
              "    li.appendChild(percent);\n",
              "\n",
              "    outputElement.appendChild(li);\n",
              "\n",
              "    const fileDataPromise = new Promise((resolve) => {\n",
              "      const reader = new FileReader();\n",
              "      reader.onload = (e) => {\n",
              "        resolve(e.target.result);\n",
              "      };\n",
              "      reader.readAsArrayBuffer(file);\n",
              "    });\n",
              "    // Wait for the data to be ready.\n",
              "    let fileData = yield {\n",
              "      promise: fileDataPromise,\n",
              "      response: {\n",
              "        action: 'continue',\n",
              "      }\n",
              "    };\n",
              "\n",
              "    // Use a chunked sending to avoid message size limits. See b/62115660.\n",
              "    let position = 0;\n",
              "    do {\n",
              "      const length = Math.min(fileData.byteLength - position, MAX_PAYLOAD_SIZE);\n",
              "      const chunk = new Uint8Array(fileData, position, length);\n",
              "      position += length;\n",
              "\n",
              "      const base64 = btoa(String.fromCharCode.apply(null, chunk));\n",
              "      yield {\n",
              "        response: {\n",
              "          action: 'append',\n",
              "          file: file.name,\n",
              "          data: base64,\n",
              "        },\n",
              "      };\n",
              "\n",
              "      let percentDone = fileData.byteLength === 0 ?\n",
              "          100 :\n",
              "          Math.round((position / fileData.byteLength) * 100);\n",
              "      percent.textContent = `${percentDone}% done`;\n",
              "\n",
              "    } while (position < fileData.byteLength);\n",
              "  }\n",
              "\n",
              "  // All done.\n",
              "  yield {\n",
              "    response: {\n",
              "      action: 'complete',\n",
              "    }\n",
              "  };\n",
              "}\n",
              "\n",
              "scope.google = scope.google || {};\n",
              "scope.google.colab = scope.google.colab || {};\n",
              "scope.google.colab._files = {\n",
              "  _uploadFiles,\n",
              "  _uploadFilesContinue,\n",
              "};\n",
              "})(self);\n",
              "</script> "
            ]
          },
          "metadata": {}
        },
        {
          "output_type": "stream",
          "name": "stdout",
          "text": [
            "Saving kaggle.json to kaggle.json\n"
          ]
        }
      ]
    },
    {
      "cell_type": "code",
      "source": [
        "os.environ['KAGGLE_CONFIG_DIR'] = '/kaggle.json'\n",
        "dataset_name = 'puneet6060/intel-image-classification'\n",
        "api = KaggleApi()\n",
        "api.authenticate()\n",
        "print(\"Authenticated, downloading dataset...\")\n",
        "api.dataset_download_files(dataset_name, path='/Users/micalettog/Desktop/Computer Science/Projects/BSDSA/ImageCNN/dataset/', unzip=True)\n",
        "print(\"Dataset downloaded\")"
      ],
      "metadata": {
        "id": "_ct49gp0SS7e",
        "colab": {
          "base_uri": "https://localhost:8080/"
        },
        "outputId": "e28b51d9-15e8-4a62-f3ed-8bfc6276e490"
      },
      "execution_count": 4,
      "outputs": [
        {
          "output_type": "stream",
          "name": "stdout",
          "text": [
            "Authenticated, downloading dataset...\n",
            "Dataset downloaded\n"
          ]
        }
      ]
    },
    {
      "cell_type": "code",
      "source": [
        "batch_size = 32\n",
        "img_height = 150\n",
        "img_width = 150\n",
        "num_classes = 6\n",
        "\n",
        "dataset_test_dir = r\"/Users/micalettog/Desktop/Computer Science/Projects/BSDSA/ImageCNN/dataset/seg_test/seg_test\"\n",
        "dataset_train_dir = r\"/Users/micalettog/Desktop/Computer Science/Projects/BSDSA/ImageCNN/dataset/seg_train/seg_train\"\n",
        "\n",
        "train_ds = image_dataset_from_directory(\n",
        "    dataset_train_dir,\n",
        "    seed=341,\n",
        "    image_size=(img_height, img_width),\n",
        "    batch_size=batch_size\n",
        ")\n",
        "\n",
        "val_ds = image_dataset_from_directory(\n",
        "    dataset_test_dir,\n",
        "    seed=341,\n",
        "    image_size=(img_height, img_width),\n",
        "    batch_size=batch_size\n",
        ")\n",
        "val_true_labels = []  # List to store true labels\n",
        "\n",
        "for images, labels in val_ds:\n",
        "    val_true_labels.extend(labels.numpy())"
      ],
      "metadata": {
        "id": "9DVrmFbPSVnj",
        "colab": {
          "base_uri": "https://localhost:8080/"
        },
        "outputId": "8bf5ba07-a1f6-43fd-9571-ac91e73868dd"
      },
      "execution_count": 5,
      "outputs": [
        {
          "output_type": "stream",
          "name": "stdout",
          "text": [
            "Found 14034 files belonging to 6 classes.\n",
            "Found 3000 files belonging to 6 classes.\n"
          ]
        }
      ]
    },
    {
      "cell_type": "code",
      "source": [
        "data_augmentation = Sequential([\n",
        "    RandomFlip(\"horizontal\", input_shape=(img_height, img_width, 3)),\n",
        "    RandomRotation(0.1),\n",
        "    RandomZoom(0.1),\n",
        "    tf.keras.layers.GaussianNoise(0.2)\n",
        "])"
      ],
      "metadata": {
        "id": "GGb-yOx9SCpd"
      },
      "execution_count": 6,
      "outputs": []
    },
    {
      "cell_type": "code",
      "source": [
        "params = {'num_filters': 48, 'kernel_size': 4, 'learning_rate': 0.0007327937745194752, 'dropout': 0.06926692273600446, 'dropout2': 0.07112997036707623, 'dropout3': 0.0780814307539649, 'dropout4': 0.030436704275823536}"
      ],
      "metadata": {
        "id": "0XmImPAlSGaG"
      },
      "execution_count": 7,
      "outputs": []
    },
    {
      "cell_type": "code",
      "source": [
        "model = Sequential([\n",
        "        data_augmentation,\n",
        "        Rescaling(1./255),\n",
        "        Conv2D(params['num_filters'], params['kernel_size'], activation='relu'),\n",
        "        MaxPooling2D(pool_size=(2, 2)),\n",
        "        Conv2D(params['num_filters'], params['kernel_size'], activation='relu'),\n",
        "        MaxPooling2D(pool_size=(2, 2)),\n",
        "        Conv2D(params['num_filters'], params['kernel_size'], activation='relu'),\n",
        "        MaxPooling2D(pool_size=(2, 2)),\n",
        "        Conv2D(params['num_filters'], params['kernel_size'], activation='relu'),\n",
        "        MaxPooling2D(pool_size=(2, 2)),\n",
        "        layers.GlobalAveragePooling2D(),\n",
        "        Dense(256, activation='relu'),\n",
        "        Dropout(params['dropout']),\n",
        "        Dense(128, activation='relu'),\n",
        "        Dropout(params['dropout2']),\n",
        "        Dense(64, activation='relu'),\n",
        "        Dropout(params['dropout3']),\n",
        "        Dense(32, activation='relu'),\n",
        "        Dropout(params['dropout4']),\n",
        "        Dense(16, activation='relu'),\n",
        "        Dense(6, activation = 'softmax')\n",
        "    ])\n",
        "optimizer = tf.keras.optimizers.Adam(learning_rate=params['learning_rate'])\n",
        "model.compile(optimizer=optimizer, loss=tf.keras.losses.SparseCategoricalCrossentropy(from_logits=False), metrics=['accuracy'])"
      ],
      "metadata": {
        "id": "UB_DXRW_SJUB"
      },
      "execution_count": 8,
      "outputs": []
    },
    {
      "cell_type": "code",
      "source": [
        "history = model.fit(\n",
        "    train_ds,\n",
        "    epochs = 57,\n",
        "    validation_data= val_ds,\n",
        "    verbose = 2\n",
        ")"
      ],
      "metadata": {
        "id": "5gdV31XPSydk",
        "colab": {
          "base_uri": "https://localhost:8080/"
        },
        "outputId": "7e761ea8-5817-4b83-8502-831ec3959257"
      },
      "execution_count": 11,
      "outputs": [
        {
          "output_type": "stream",
          "name": "stdout",
          "text": [
            "Epoch 1/57\n",
            "439/439 - 14s - loss: 0.2966 - accuracy: 0.8938 - val_loss: 0.5123 - val_accuracy: 0.8450 - 14s/epoch - 32ms/step\n",
            "Epoch 2/57\n",
            "439/439 - 11s - loss: 0.2963 - accuracy: 0.8935 - val_loss: 0.4651 - val_accuracy: 0.8513 - 11s/epoch - 24ms/step\n",
            "Epoch 3/57\n",
            "439/439 - 11s - loss: 0.3091 - accuracy: 0.8906 - val_loss: 0.4620 - val_accuracy: 0.8537 - 11s/epoch - 26ms/step\n",
            "Epoch 4/57\n",
            "439/439 - 9s - loss: 0.2972 - accuracy: 0.8928 - val_loss: 0.4743 - val_accuracy: 0.8450 - 9s/epoch - 21ms/step\n",
            "Epoch 5/57\n",
            "439/439 - 11s - loss: 0.2855 - accuracy: 0.8995 - val_loss: 0.4345 - val_accuracy: 0.8597 - 11s/epoch - 24ms/step\n",
            "Epoch 6/57\n",
            "439/439 - 11s - loss: 0.2924 - accuracy: 0.8955 - val_loss: 0.4830 - val_accuracy: 0.8423 - 11s/epoch - 24ms/step\n",
            "Epoch 7/57\n",
            "439/439 - 11s - loss: 0.2908 - accuracy: 0.8971 - val_loss: 0.5655 - val_accuracy: 0.8147 - 11s/epoch - 25ms/step\n",
            "Epoch 8/57\n",
            "439/439 - 9s - loss: 0.2901 - accuracy: 0.8953 - val_loss: 0.4721 - val_accuracy: 0.8480 - 9s/epoch - 21ms/step\n",
            "Epoch 9/57\n",
            "439/439 - 11s - loss: 0.2870 - accuracy: 0.8970 - val_loss: 0.4418 - val_accuracy: 0.8583 - 11s/epoch - 26ms/step\n",
            "Epoch 10/57\n",
            "439/439 - 11s - loss: 0.2913 - accuracy: 0.8935 - val_loss: 0.5072 - val_accuracy: 0.8457 - 11s/epoch - 25ms/step\n",
            "Epoch 11/57\n",
            "439/439 - 14s - loss: 0.2787 - accuracy: 0.9002 - val_loss: 0.4957 - val_accuracy: 0.8513 - 14s/epoch - 33ms/step\n",
            "Epoch 12/57\n",
            "439/439 - 11s - loss: 0.2854 - accuracy: 0.9000 - val_loss: 0.5362 - val_accuracy: 0.8370 - 11s/epoch - 25ms/step\n",
            "Epoch 13/57\n",
            "439/439 - 11s - loss: 0.2865 - accuracy: 0.8981 - val_loss: 0.4410 - val_accuracy: 0.8590 - 11s/epoch - 26ms/step\n",
            "Epoch 14/57\n",
            "439/439 - 10s - loss: 0.2765 - accuracy: 0.9007 - val_loss: 0.4830 - val_accuracy: 0.8493 - 10s/epoch - 24ms/step\n",
            "Epoch 15/57\n",
            "439/439 - 12s - loss: 0.2728 - accuracy: 0.9002 - val_loss: 0.5738 - val_accuracy: 0.8270 - 12s/epoch - 26ms/step\n",
            "Epoch 16/57\n",
            "439/439 - 11s - loss: 0.2767 - accuracy: 0.9002 - val_loss: 0.5301 - val_accuracy: 0.8297 - 11s/epoch - 25ms/step\n",
            "Epoch 17/57\n",
            "439/439 - 11s - loss: 0.2849 - accuracy: 0.9002 - val_loss: 0.5233 - val_accuracy: 0.8390 - 11s/epoch - 24ms/step\n",
            "Epoch 18/57\n",
            "439/439 - 16s - loss: 0.2673 - accuracy: 0.9045 - val_loss: 0.5527 - val_accuracy: 0.8450 - 16s/epoch - 37ms/step\n",
            "Epoch 19/57\n",
            "439/439 - 11s - loss: 0.2600 - accuracy: 0.9076 - val_loss: 0.5040 - val_accuracy: 0.8433 - 11s/epoch - 25ms/step\n",
            "Epoch 20/57\n",
            "439/439 - 10s - loss: 0.2652 - accuracy: 0.9021 - val_loss: 0.4618 - val_accuracy: 0.8587 - 10s/epoch - 24ms/step\n",
            "Epoch 21/57\n",
            "439/439 - 10s - loss: 0.2623 - accuracy: 0.9069 - val_loss: 0.4942 - val_accuracy: 0.8420 - 10s/epoch - 23ms/step\n",
            "Epoch 22/57\n",
            "439/439 - 11s - loss: 0.2639 - accuracy: 0.9082 - val_loss: 0.4606 - val_accuracy: 0.8510 - 11s/epoch - 25ms/step\n",
            "Epoch 23/57\n",
            "439/439 - 9s - loss: 0.2659 - accuracy: 0.9062 - val_loss: 0.4889 - val_accuracy: 0.8417 - 9s/epoch - 21ms/step\n",
            "Epoch 24/57\n",
            "439/439 - 10s - loss: 0.2612 - accuracy: 0.9052 - val_loss: 0.5516 - val_accuracy: 0.8393 - 10s/epoch - 22ms/step\n",
            "Epoch 25/57\n",
            "439/439 - 11s - loss: 0.2607 - accuracy: 0.9054 - val_loss: 0.6022 - val_accuracy: 0.8280 - 11s/epoch - 25ms/step\n",
            "Epoch 26/57\n",
            "439/439 - 11s - loss: 0.2596 - accuracy: 0.9036 - val_loss: 0.4398 - val_accuracy: 0.8600 - 11s/epoch - 25ms/step\n",
            "Epoch 27/57\n",
            "439/439 - 10s - loss: 0.2741 - accuracy: 0.8989 - val_loss: 0.4943 - val_accuracy: 0.8440 - 10s/epoch - 23ms/step\n",
            "Epoch 28/57\n",
            "439/439 - 10s - loss: 0.2653 - accuracy: 0.9044 - val_loss: 0.4836 - val_accuracy: 0.8413 - 10s/epoch - 22ms/step\n",
            "Epoch 29/57\n",
            "439/439 - 11s - loss: 0.2561 - accuracy: 0.9063 - val_loss: 0.4602 - val_accuracy: 0.8583 - 11s/epoch - 24ms/step\n",
            "Epoch 30/57\n",
            "439/439 - 11s - loss: 0.2583 - accuracy: 0.9047 - val_loss: 0.4676 - val_accuracy: 0.8460 - 11s/epoch - 25ms/step\n",
            "Epoch 31/57\n",
            "439/439 - 10s - loss: 0.2585 - accuracy: 0.9046 - val_loss: 0.4629 - val_accuracy: 0.8530 - 10s/epoch - 24ms/step\n",
            "Epoch 32/57\n",
            "439/439 - 10s - loss: 0.2644 - accuracy: 0.9068 - val_loss: 0.4818 - val_accuracy: 0.8533 - 10s/epoch - 23ms/step\n",
            "Epoch 33/57\n",
            "439/439 - 11s - loss: 0.2541 - accuracy: 0.9063 - val_loss: 0.4704 - val_accuracy: 0.8557 - 11s/epoch - 24ms/step\n",
            "Epoch 34/57\n",
            "439/439 - 11s - loss: 0.2389 - accuracy: 0.9121 - val_loss: 0.5184 - val_accuracy: 0.8447 - 11s/epoch - 25ms/step\n",
            "Epoch 35/57\n",
            "439/439 - 11s - loss: 0.2489 - accuracy: 0.9101 - val_loss: 0.4817 - val_accuracy: 0.8470 - 11s/epoch - 25ms/step\n",
            "Epoch 36/57\n",
            "439/439 - 9s - loss: 0.2526 - accuracy: 0.9114 - val_loss: 0.4474 - val_accuracy: 0.8523 - 9s/epoch - 21ms/step\n",
            "Epoch 37/57\n",
            "439/439 - 11s - loss: 0.2419 - accuracy: 0.9115 - val_loss: 0.5037 - val_accuracy: 0.8500 - 11s/epoch - 24ms/step\n",
            "Epoch 38/57\n",
            "439/439 - 13s - loss: 0.2402 - accuracy: 0.9116 - val_loss: 0.4585 - val_accuracy: 0.8663 - 13s/epoch - 29ms/step\n",
            "Epoch 39/57\n",
            "439/439 - 11s - loss: 0.2447 - accuracy: 0.9116 - val_loss: 0.5307 - val_accuracy: 0.8450 - 11s/epoch - 25ms/step\n",
            "Epoch 40/57\n",
            "439/439 - 10s - loss: 0.2397 - accuracy: 0.9130 - val_loss: 0.5446 - val_accuracy: 0.8433 - 10s/epoch - 22ms/step\n",
            "Epoch 41/57\n",
            "439/439 - 10s - loss: 0.2398 - accuracy: 0.9127 - val_loss: 0.5010 - val_accuracy: 0.8420 - 10s/epoch - 22ms/step\n",
            "Epoch 42/57\n",
            "439/439 - 11s - loss: 0.2437 - accuracy: 0.9140 - val_loss: 0.5167 - val_accuracy: 0.8503 - 11s/epoch - 26ms/step\n",
            "Epoch 43/57\n",
            "439/439 - 11s - loss: 0.2419 - accuracy: 0.9129 - val_loss: 0.4825 - val_accuracy: 0.8540 - 11s/epoch - 24ms/step\n",
            "Epoch 44/57\n",
            "439/439 - 13s - loss: 0.2293 - accuracy: 0.9166 - val_loss: 0.5362 - val_accuracy: 0.8417 - 13s/epoch - 29ms/step\n",
            "Epoch 45/57\n",
            "439/439 - 9s - loss: 0.2432 - accuracy: 0.9119 - val_loss: 0.5289 - val_accuracy: 0.8420 - 9s/epoch - 21ms/step\n",
            "Epoch 46/57\n",
            "439/439 - 12s - loss: 0.2356 - accuracy: 0.9124 - val_loss: 0.5971 - val_accuracy: 0.8347 - 12s/epoch - 28ms/step\n",
            "Epoch 47/57\n",
            "439/439 - 11s - loss: 0.2374 - accuracy: 0.9126 - val_loss: 0.4868 - val_accuracy: 0.8503 - 11s/epoch - 24ms/step\n",
            "Epoch 48/57\n",
            "439/439 - 11s - loss: 0.2362 - accuracy: 0.9157 - val_loss: 0.4782 - val_accuracy: 0.8530 - 11s/epoch - 24ms/step\n",
            "Epoch 49/57\n",
            "439/439 - 19s - loss: 0.2301 - accuracy: 0.9156 - val_loss: 0.4984 - val_accuracy: 0.8500 - 19s/epoch - 42ms/step\n",
            "Epoch 50/57\n",
            "439/439 - 14s - loss: 0.2241 - accuracy: 0.9178 - val_loss: 0.5223 - val_accuracy: 0.8527 - 14s/epoch - 33ms/step\n",
            "Epoch 51/57\n",
            "439/439 - 11s - loss: 0.2392 - accuracy: 0.9136 - val_loss: 0.4866 - val_accuracy: 0.8553 - 11s/epoch - 25ms/step\n",
            "Epoch 52/57\n",
            "439/439 - 11s - loss: 0.2316 - accuracy: 0.9189 - val_loss: 0.5182 - val_accuracy: 0.8503 - 11s/epoch - 24ms/step\n",
            "Epoch 53/57\n",
            "439/439 - 11s - loss: 0.2300 - accuracy: 0.9168 - val_loss: 0.5726 - val_accuracy: 0.8310 - 11s/epoch - 26ms/step\n",
            "Epoch 54/57\n",
            "439/439 - 12s - loss: 0.2228 - accuracy: 0.9179 - val_loss: 0.5011 - val_accuracy: 0.8467 - 12s/epoch - 28ms/step\n",
            "Epoch 55/57\n",
            "439/439 - 9s - loss: 0.2224 - accuracy: 0.9213 - val_loss: 0.5189 - val_accuracy: 0.8427 - 9s/epoch - 21ms/step\n",
            "Epoch 56/57\n",
            "439/439 - 14s - loss: 0.2212 - accuracy: 0.9189 - val_loss: 0.5883 - val_accuracy: 0.8320 - 14s/epoch - 33ms/step\n",
            "Epoch 57/57\n",
            "439/439 - 16s - loss: 0.2284 - accuracy: 0.9201 - val_loss: 0.5281 - val_accuracy: 0.8460 - 16s/epoch - 37ms/step\n"
          ]
        }
      ]
    },
    {
      "cell_type": "code",
      "source": [
        "from tensorflow.keras.preprocessing import image\n",
        "img_path = '5.jpg'\n",
        "img = image.load_img(img_path, target_size=(150, 150))\n",
        "img_array = image.img_to_array(img)\n",
        "input_image = np.expand_dims(img_array, axis=0)"
      ],
      "metadata": {
        "id": "_jhbZfFVV73f"
      },
      "execution_count": 13,
      "outputs": []
    },
    {
      "cell_type": "code",
      "source": [
        "layer_outputs = [layer.output for layer in model.layers if isinstance(layer, tf.keras.layers.Conv2D)]\n",
        "feature_map_model = Model(inputs=model.input, outputs=layer_outputs)\n",
        "feature_maps = feature_map_model.predict(input_image)\n",
        "\n",
        "if not layer_outputs:\n",
        "    raise ValueError(\"No Conv2D layers found in the model.\")\n",
        "\n",
        "feature_maps_last_layer = feature_maps[0]\n",
        "num_feature_maps = feature_maps_last_layer.shape[-1]\n",
        "\n",
        "aggregated_feature_map = np.mean(feature_maps_last_layer[0, :, :, :], axis=2)\n",
        "\n",
        "# Visualizing the aggregated feature map\n",
        "plt.figure(figsize=(8, 8))\n",
        "plt.imshow(aggregated_feature_map, cmap='viridis')\n",
        "plt.axis('off')\n",
        "plt.show()"
      ],
      "metadata": {
        "colab": {
          "base_uri": "https://localhost:8080/",
          "height": 670
        },
        "id": "mdFhKSfccnfj",
        "outputId": "f9177582-4455-45ee-ef70-93d487d4f718"
      },
      "execution_count": 25,
      "outputs": [
        {
          "output_type": "stream",
          "name": "stdout",
          "text": [
            "1/1 [==============================] - 0s 347ms/step\n"
          ]
        },
        {
          "output_type": "display_data",
          "data": {
            "text/plain": [
              "<Figure size 800x800 with 1 Axes>"
            ],
            "image/png": "[encoded data removed]"
          },
          "metadata": {}
        }
      ]
    },
    {
      "cell_type": "code",
      "execution_count": 22,
      "metadata": {
        "id": "-PrObUghRe_R",
        "colab": {
          "base_uri": "https://localhost:8080/",
          "height": 670
        },
        "outputId": "ed399af0-bc51-40d7-d7db-ffcb18a723df"
      },
      "outputs": [
        {
          "output_type": "stream",
          "name": "stdout",
          "text": [
            "1/1 [==============================] - 0s 76ms/step\n"
          ]
        },
        {
          "output_type": "display_data",
          "data": {
            "text/plain": [
              "<Figure size 800x800 with 1 Axes>"
            ],
            "image/png": "[encoded data removed]"
          },
          "metadata": {}
        }
      ],
      "source": [
        "layer_outputs = [layer.output for layer in model.layers if isinstance(layer, tf.keras.layers.Conv2D)]\n",
        "feature_map_model = Model(inputs=model.input, outputs=layer_outputs)\n",
        "feature_maps = feature_map_model.predict(input_image)\n",
        "\n",
        "if not layer_outputs:\n",
        "    raise ValueError(\"No Conv2D layers found in the model.\")\n",
        "\n",
        "feature_maps_last_layer = feature_maps[-1]\n",
        "num_feature_maps = feature_maps_last_layer.shape[-1]\n",
        "\n",
        "aggregated_feature_map = np.mean(feature_maps_last_layer[0, :, :, :], axis=2)\n",
        "\n",
        "# Visualizing the aggregated feature map\n",
        "plt.figure(figsize=(8, 8))\n",
        "plt.imshow(aggregated_feature_map, cmap='viridis')\n",
        "plt.axis('off')\n",
        "plt.show()"
      ]
    },
    {
      "cell_type": "code",
      "source": [
        "predictions = model.predict(input_image)\n",
        "predicted_class = np.argmax(predictions)\n",
        "class_names = train_ds.class_names\n",
        "predicted_class_name = class_names[predicted_class]\n",
        "print(predicted_class_name)"
      ],
      "metadata": {
        "colab": {
          "base_uri": "https://localhost:8080/"
        },
        "id": "VrNCWfdTUw2L",
        "outputId": "f7c6d577-5a2a-4129-abae-59588bc3f796"
      },
      "execution_count": 24,
      "outputs": [
        {
          "output_type": "stream",
          "name": "stdout",
          "text": [
            "1/1 [==============================] - 0s 27ms/step\n",
            "buildings\n"
          ]
        }
      ]
    }
  ]
}